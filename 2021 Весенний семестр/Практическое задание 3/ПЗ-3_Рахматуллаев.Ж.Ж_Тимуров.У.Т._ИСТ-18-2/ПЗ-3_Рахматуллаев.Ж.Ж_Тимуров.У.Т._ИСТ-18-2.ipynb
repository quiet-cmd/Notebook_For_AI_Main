{
  "cells":[
    {
      "cell_type":"code",
      "source":[
        "# Зависимости\n",
        "import pandas as pd\n",
        "import numpy as np\n",
        "import matplotlib.pyplot as plt\n",
        "import random\n",
        "\n",
        "from sklearn.model_selection import train_test_split\n",
        "from sklearn.preprocessing import MinMaxScaler\n",
        "from sklearn.compose import ColumnTransformer\n",
        "\n",
        "from sklearn.tree import DecisionTreeRegressor, DecisionTreeClassifier, plot_tree\n",
        "\n",
        "from sklearn.metrics import mean_squared_error, f1_score"
      ],
      "execution_count":1,
      "outputs":[
        
      ],
      "metadata":{
        
      }
    },
    {
      "cell_type":"code",
      "source":[
        "# Генерируем уникальный seed\n",
        "my_code = \"Рахматуллаев и Тимуров\"\n",
        "seed_limit = 2 ** 32\n",
        "my_seed = int.from_bytes(my_code.encode(), \"little\") % seed_limit"
      ],
      "execution_count":2,
      "outputs":[
        
      ],
      "metadata":{
        
      }
    },
    {
      "cell_type":"code",
      "source":[
        "# Читаем данные из файла\n",
        "example_data = pd.read_csv(\"datasets\/Fish.csv\")"
      ],
      "execution_count":3,
      "outputs":[
        
      ],
      "metadata":{
        
      }
    },
    {
      "cell_type":"code",
      "source":[
        "example_data.head()"
      ],
      "execution_count":4,
      "outputs":[
        {
          "data":{
            "text\/html":[
              "<div>\n",
              "<style scoped>\n",
              "    .dataframe tbody tr th:only-of-type {\n",
              "        vertical-align: middle;\n",
              "    }\n",
              "\n",
              "    .dataframe tbody tr th {\n",
              "        vertical-align: top;\n",
              "    }\n",
              "\n",
              "    .dataframe thead th {\n",
              "        text-align: right;\n",
              "    }\n",
              "<\/style>\n",
              "<table border=\"1\" class=\"dataframe\">\n",
              "  <thead>\n",
              "    <tr style=\"text-align: right;\">\n",
              "      <th><\/th>\n",
              "      <th>Species<\/th>\n",
              "      <th>Weight<\/th>\n",
              "      <th>Length1<\/th>\n",
              "      <th>Length2<\/th>\n",
              "      <th>Length3<\/th>\n",
              "      <th>Height<\/th>\n",
              "      <th>Width<\/th>\n",
              "    <\/tr>\n",
              "  <\/thead>\n",
              "  <tbody>\n",
              "    <tr>\n",
              "      <th>0<\/th>\n",
              "      <td>Bream<\/td>\n",
              "      <td>242.0<\/td>\n",
              "      <td>23.2<\/td>\n",
              "      <td>25.4<\/td>\n",
              "      <td>30.0<\/td>\n",
              "      <td>11.5200<\/td>\n",
              "      <td>4.0200<\/td>\n",
              "    <\/tr>\n",
              "    <tr>\n",
              "      <th>1<\/th>\n",
              "      <td>Bream<\/td>\n",
              "      <td>290.0<\/td>\n",
              "      <td>24.0<\/td>\n",
              "      <td>26.3<\/td>\n",
              "      <td>31.2<\/td>\n",
              "      <td>12.4800<\/td>\n",
              "      <td>4.3056<\/td>\n",
              "    <\/tr>\n",
              "    <tr>\n",
              "      <th>2<\/th>\n",
              "      <td>Bream<\/td>\n",
              "      <td>340.0<\/td>\n",
              "      <td>23.9<\/td>\n",
              "      <td>26.5<\/td>\n",
              "      <td>31.1<\/td>\n",
              "      <td>12.3778<\/td>\n",
              "      <td>4.6961<\/td>\n",
              "    <\/tr>\n",
              "    <tr>\n",
              "      <th>3<\/th>\n",
              "      <td>Bream<\/td>\n",
              "      <td>363.0<\/td>\n",
              "      <td>26.3<\/td>\n",
              "      <td>29.0<\/td>\n",
              "      <td>33.5<\/td>\n",
              "      <td>12.7300<\/td>\n",
              "      <td>4.4555<\/td>\n",
              "    <\/tr>\n",
              "    <tr>\n",
              "      <th>4<\/th>\n",
              "      <td>Bream<\/td>\n",
              "      <td>430.0<\/td>\n",
              "      <td>26.5<\/td>\n",
              "      <td>29.0<\/td>\n",
              "      <td>34.0<\/td>\n",
              "      <td>12.4440<\/td>\n",
              "      <td>5.1340<\/td>\n",
              "    <\/tr>\n",
              "  <\/tbody>\n",
              "<\/table>\n",
              "<\/div>"
            ]
          },
          "metadata":{
            
          },
          "output_type":"display_data"
        }
      ],
      "metadata":{
        
      }
    },
    {
      "cell_type":"code",
      "source":[
        "# Определим размер валидационной и тестовой выборок\n",
        "val_test_size = round(0.2*len(example_data))\n",
        "print(val_test_size)"
      ],
      "execution_count":5,
      "outputs":[
        {
          "name":"stdout",
          "text":[
            "32\n"
          ],
          "output_type":"stream"
        }
      ],
      "metadata":{
        
      }
    },
    {
      "cell_type":"code",
      "source":[
        "# Создадим обучающую, валидационную и тестовую выборки\n",
        "random_state = my_seed\n",
        "train_val, test = train_test_split(example_data, test_size=val_test_size, random_state=random_state)\n",
        "train, val = train_test_split(train_val, test_size=val_test_size, random_state=random_state)\n",
        "print(len(train), len(val), len(test))"
      ],
      "execution_count":6,
      "outputs":[
        {
          "name":"stdout",
          "text":[
            "95 32 32\n"
          ],
          "output_type":"stream"
        }
      ],
      "metadata":{
        
      }
    },
    {
      "cell_type":"code",
      "source":[
        "# Значения в числовых столбцах преобразуем к отрезку [0,1].\n",
        "# Для настройки скалировщика используем только обучающую выборку.\n",
        "num_columns = ['Weight', 'Length1', 'Length2', 'Length3', 'Height', 'Width']\n",
        "\n",
        "ct = ColumnTransformer(transformers=[('numerical', MinMaxScaler(), num_columns)], remainder='passthrough')\n",
        "ct.fit(train)"
      ],
      "execution_count":7,
      "outputs":[
        {
          "data":{
            "text\/plain":[
              "ColumnTransformer(remainder='passthrough',\n",
              "                  transformers=[('numerical', MinMaxScaler(),\n",
              "                                 ['Weight', 'Length1', 'Length2', 'Length3',\n",
              "                                  'Height', 'Width'])])"
            ]
          },
          "metadata":{
            
          },
          "output_type":"display_data"
        }
      ],
      "metadata":{
        
      }
    },
    {
      "cell_type":"code",
      "source":[
        "# Преобразуем значения, тип данных приводим к DataFrame\n",
        "sc_train = pd.DataFrame(ct.transform(train))\n",
        "sc_test = pd.DataFrame(ct.transform(test))\n",
        "sc_val = pd.DataFrame(ct.transform(val))"
      ],
      "execution_count":8,
      "outputs":[
        
      ],
      "metadata":{
        
      }
    },
    {
      "cell_type":"code",
      "source":[
        "# Устанавливаем названия столбцов\n",
        "column_names = num_columns + ['Species']\n",
        "sc_train.columns = column_names\n",
        "sc_test.columns = column_names\n",
        "sc_val.columns = column_names"
      ],
      "execution_count":9,
      "outputs":[
        
      ],
      "metadata":{
        
      }
    },
    {
      "cell_type":"code",
      "source":[
        "sc_train"
      ],
      "execution_count":10,
      "outputs":[
        {
          "data":{
            "text\/html":[
              "<div>\n",
              "<style scoped>\n",
              "    .dataframe tbody tr th:only-of-type {\n",
              "        vertical-align: middle;\n",
              "    }\n",
              "\n",
              "    .dataframe tbody tr th {\n",
              "        vertical-align: top;\n",
              "    }\n",
              "\n",
              "    .dataframe thead th {\n",
              "        text-align: right;\n",
              "    }\n",
              "<\/style>\n",
              "<table border=\"1\" class=\"dataframe\">\n",
              "  <thead>\n",
              "    <tr style=\"text-align: right;\">\n",
              "      <th><\/th>\n",
              "      <th>Weight<\/th>\n",
              "      <th>Length1<\/th>\n",
              "      <th>Length2<\/th>\n",
              "      <th>Length3<\/th>\n",
              "      <th>Height<\/th>\n",
              "      <th>Width<\/th>\n",
              "      <th>Species<\/th>\n",
              "    <\/tr>\n",
              "  <\/thead>\n",
              "  <tbody>\n",
              "    <tr>\n",
              "      <th>0<\/th>\n",
              "      <td>0.099373<\/td>\n",
              "      <td>0.195171<\/td>\n",
              "      <td>0.203358<\/td>\n",
              "      <td>0.216783<\/td>\n",
              "      <td>0.445051<\/td>\n",
              "      <td>0.333051<\/td>\n",
              "      <td>Parkki<\/td>\n",
              "    <\/tr>\n",
              "    <tr>\n",
              "      <th>1<\/th>\n",
              "      <td>0.093896<\/td>\n",
              "      <td>0.255533<\/td>\n",
              "      <td>0.253731<\/td>\n",
              "      <td>0.277972<\/td>\n",
              "      <td>0.301063<\/td>\n",
              "      <td>0.364175<\/td>\n",
              "      <td>Roach<\/td>\n",
              "    <\/tr>\n",
              "    <tr>\n",
              "      <th>2<\/th>\n",
              "      <td>0.068947<\/td>\n",
              "      <td>0.187123<\/td>\n",
              "      <td>0.190299<\/td>\n",
              "      <td>0.199301<\/td>\n",
              "      <td>0.260474<\/td>\n",
              "      <td>0.35614<\/td>\n",
              "      <td>Roach<\/td>\n",
              "    <\/tr>\n",
              "    <tr>\n",
              "      <th>3<\/th>\n",
              "      <td>0.464492<\/td>\n",
              "      <td>0.714286<\/td>\n",
              "      <td>0.712687<\/td>\n",
              "      <td>0.706294<\/td>\n",
              "      <td>0.345449<\/td>\n",
              "      <td>0.610115<\/td>\n",
              "      <td>Pike<\/td>\n",
              "    <\/tr>\n",
              "    <tr>\n",
              "      <th>4<\/th>\n",
              "      <td>0.269762<\/td>\n",
              "      <td>0.368209<\/td>\n",
              "      <td>0.376866<\/td>\n",
              "      <td>0.424825<\/td>\n",
              "      <td>0.712565<\/td>\n",
              "      <td>0.535098<\/td>\n",
              "      <td>Bream<\/td>\n",
              "    <\/tr>\n",
              "    <tr>\n",
              "      <th>...<\/th>\n",
              "      <td>...<\/td>\n",
              "      <td>...<\/td>\n",
              "      <td>...<\/td>\n",
              "      <td>...<\/td>\n",
              "      <td>...<\/td>\n",
              "      <td>...<\/td>\n",
              "      <td>...<\/td>\n",
              "    <\/tr>\n",
              "    <tr>\n",
              "      <th>90<\/th>\n",
              "      <td>0.604454<\/td>\n",
              "      <td>0.639839<\/td>\n",
              "      <td>0.63806<\/td>\n",
              "      <td>0.625874<\/td>\n",
              "      <td>0.624566<\/td>\n",
              "      <td>0.92301<\/td>\n",
              "      <td>Perch<\/td>\n",
              "    <\/tr>\n",
              "    <tr>\n",
              "      <th>91<\/th>\n",
              "      <td>0.412767<\/td>\n",
              "      <td>0.444668<\/td>\n",
              "      <td>0.451493<\/td>\n",
              "      <td>0.496503<\/td>\n",
              "      <td>0.827995<\/td>\n",
              "      <td>0.609326<\/td>\n",
              "      <td>Bream<\/td>\n",
              "    <\/tr>\n",
              "    <tr>\n",
              "      <th>92<\/th>\n",
              "      <td>0.604454<\/td>\n",
              "      <td>0.62173<\/td>\n",
              "      <td>0.628731<\/td>\n",
              "      <td>0.615385<\/td>\n",
              "      <td>0.631253<\/td>\n",
              "      <td>1.0<\/td>\n",
              "      <td>Perch<\/td>\n",
              "    <\/tr>\n",
              "    <tr>\n",
              "      <th>93<\/th>\n",
              "      <td>0.367127<\/td>\n",
              "      <td>0.434608<\/td>\n",
              "      <td>0.442164<\/td>\n",
              "      <td>0.486014<\/td>\n",
              "      <td>0.807065<\/td>\n",
              "      <td>0.575975<\/td>\n",
              "      <td>Bream<\/td>\n",
              "    <\/tr>\n",
              "    <tr>\n",
              "      <th>94<\/th>\n",
              "      <td>0.482748<\/td>\n",
              "      <td>0.490946<\/td>\n",
              "      <td>0.496269<\/td>\n",
              "      <td>0.503497<\/td>\n",
              "      <td>0.582334<\/td>\n",
              "      <td>0.778924<\/td>\n",
              "      <td>Whitefish<\/td>\n",
              "    <\/tr>\n",
              "  <\/tbody>\n",
              "<\/table>\n",
              "<p>95 rows × 7 columns<\/p>\n",
              "<\/div>"
            ]
          },
          "metadata":{
            
          },
          "output_type":"display_data"
        }
      ],
      "metadata":{
        
      }
    },
    {
      "cell_type":"code",
      "source":[
        "# Задание №1 - анализ деревьев принятия решений в задаче регрессии\n",
        "# https:\/\/scikit-learn.org\/stable\/modules\/generated\/sklearn.tree.DecisionTreeRegressor.html\n",
        "# criterion : {“mse”, “friedman_mse”, “mae”, “poisson”}, default=”mse”\n",
        "# splitter : {“best”, “random”}, default=”best”\n",
        "# max_depth : int, default=None\n",
        "# min_samples_split : int or float, default=2\n",
        "# min_samples_leaf : int or float, default=1"
      ],
      "execution_count":11,
      "outputs":[
        
      ],
      "metadata":{
        
      }
    },
    {
      "cell_type":"code",
      "source":[
        "# Выбираем 4 числовых переменных, три их них будут предикторами, одна - зависимой переменной\n",
        "n = 4\n",
        "labels = random.sample(num_columns, n)\n",
        "\n",
        "y_label = labels[0]\n",
        "x_labels = labels[1:]\n",
        "\n",
        "print(x_labels)\n",
        "print(y_label)"
      ],
      "execution_count":12,
      "outputs":[
        {
          "name":"stdout",
          "text":[
            "['Length1', 'Weight', 'Height']\n",
            "Width\n"
          ],
          "output_type":"stream"
        }
      ],
      "metadata":{
        
      }
    },
    {
      "cell_type":"code",
      "source":[
        "# Отберем необходимые параметры\n",
        "x_train = sc_train[x_labels]\n",
        "x_test = sc_test[x_labels]\n",
        "x_val = sc_val[x_labels]\n",
        "\n",
        "y_train = sc_train[y_label]\n",
        "y_test = sc_test[y_label]\n",
        "y_val = sc_val[y_label]"
      ],
      "execution_count":13,
      "outputs":[
        
      ],
      "metadata":{
        
      }
    },
    {
      "cell_type":"code",
      "source":[
        "x_train"
      ],
      "execution_count":14,
      "outputs":[
        {
          "data":{
            "text\/html":[
              "<div>\n",
              "<style scoped>\n",
              "    .dataframe tbody tr th:only-of-type {\n",
              "        vertical-align: middle;\n",
              "    }\n",
              "\n",
              "    .dataframe tbody tr th {\n",
              "        vertical-align: top;\n",
              "    }\n",
              "\n",
              "    .dataframe thead th {\n",
              "        text-align: right;\n",
              "    }\n",
              "<\/style>\n",
              "<table border=\"1\" class=\"dataframe\">\n",
              "  <thead>\n",
              "    <tr style=\"text-align: right;\">\n",
              "      <th><\/th>\n",
              "      <th>Length1<\/th>\n",
              "      <th>Weight<\/th>\n",
              "      <th>Height<\/th>\n",
              "    <\/tr>\n",
              "  <\/thead>\n",
              "  <tbody>\n",
              "    <tr>\n",
              "      <th>0<\/th>\n",
              "      <td>0.195171<\/td>\n",
              "      <td>0.099373<\/td>\n",
              "      <td>0.445051<\/td>\n",
              "    <\/tr>\n",
              "    <tr>\n",
              "      <th>1<\/th>\n",
              "      <td>0.255533<\/td>\n",
              "      <td>0.093896<\/td>\n",
              "      <td>0.301063<\/td>\n",
              "    <\/tr>\n",
              "    <tr>\n",
              "      <th>2<\/th>\n",
              "      <td>0.187123<\/td>\n",
              "      <td>0.068947<\/td>\n",
              "      <td>0.260474<\/td>\n",
              "    <\/tr>\n",
              "    <tr>\n",
              "      <th>3<\/th>\n",
              "      <td>0.714286<\/td>\n",
              "      <td>0.464492<\/td>\n",
              "      <td>0.345449<\/td>\n",
              "    <\/tr>\n",
              "    <tr>\n",
              "      <th>4<\/th>\n",
              "      <td>0.368209<\/td>\n",
              "      <td>0.269762<\/td>\n",
              "      <td>0.712565<\/td>\n",
              "    <\/tr>\n",
              "    <tr>\n",
              "      <th>...<\/th>\n",
              "      <td>...<\/td>\n",
              "      <td>...<\/td>\n",
              "      <td>...<\/td>\n",
              "    <\/tr>\n",
              "    <tr>\n",
              "      <th>90<\/th>\n",
              "      <td>0.639839<\/td>\n",
              "      <td>0.604454<\/td>\n",
              "      <td>0.624566<\/td>\n",
              "    <\/tr>\n",
              "    <tr>\n",
              "      <th>91<\/th>\n",
              "      <td>0.444668<\/td>\n",
              "      <td>0.412767<\/td>\n",
              "      <td>0.827995<\/td>\n",
              "    <\/tr>\n",
              "    <tr>\n",
              "      <th>92<\/th>\n",
              "      <td>0.62173<\/td>\n",
              "      <td>0.604454<\/td>\n",
              "      <td>0.631253<\/td>\n",
              "    <\/tr>\n",
              "    <tr>\n",
              "      <th>93<\/th>\n",
              "      <td>0.434608<\/td>\n",
              "      <td>0.367127<\/td>\n",
              "      <td>0.807065<\/td>\n",
              "    <\/tr>\n",
              "    <tr>\n",
              "      <th>94<\/th>\n",
              "      <td>0.490946<\/td>\n",
              "      <td>0.482748<\/td>\n",
              "      <td>0.582334<\/td>\n",
              "    <\/tr>\n",
              "  <\/tbody>\n",
              "<\/table>\n",
              "<p>95 rows × 3 columns<\/p>\n",
              "<\/div>"
            ]
          },
          "metadata":{
            
          },
          "output_type":"display_data"
        }
      ],
      "metadata":{
        
      }
    },
    {
      "cell_type":"code",
      "source":[
        "# Создайте 4 модели с различными критериями ветвления criterion: 'mse', 'friedman_mse', 'mae', 'poisson'.\n",
        "# Решите получившуюся задачу регрессии с помощью созданных моделей и сравните их эффективность.\n",
        "# При необходимости применяйте параметры splitter, max_depth, min_samples_split, min_samples_leaf\n",
        "# Укажите, какая модель решает задачу лучше других.\n",
        "criterion_list = ['mse', 'friedman_mse', 'mae', 'poisson']\n",
        "r_model_list = []\n",
        "for i in range(len(criterion_list)):\n",
        "    r_model_list.append(DecisionTreeRegressor(criterion=criterion_list[i], random_state=random_state))\n",
        "    r_model_list[i].fit(x_train, y_train)\n",
        "    print(i, r_model_list[i].score(x_val, y_val))"
      ],
      "execution_count":15,
      "outputs":[
        {
          "name":"stdout",
          "text":[
            "0 0.9181841677956638\n",
            "1 0.9198748976408518\n",
            "2 0.9350177201195927\n",
            "3 0.8709747059699409\n"
          ],
          "output_type":"stream"
        }
      ],
      "metadata":{
        
      }
    },
    {
      "cell_type":"code",
      "source":[
        "test_pred = r_model_list[1].predict(x_test)\n",
        "print(mean_squared_error(y_test, test_pred), r_model_list[1], sep='\\n')"
      ],
      "execution_count":16,
      "outputs":[
        {
          "name":"stdout",
          "text":[
            "0.0033309914459907445\n",
            "DecisionTreeRegressor(criterion='friedman_mse', random_state=2966462672)\n"
          ],
          "output_type":"stream"
        }
      ],
      "metadata":{
        
      }
    },
    {
      "cell_type":"code",
      "source":[
        "# Задание №2 - анализ деревьев принятия решений в задаче классификации\n",
        "# https:\/\/scikit-learn.org\/stable\/modules\/generated\/sklearn.tree.DecisionTreeClassifier.html\n",
        "# criterion : {“gini”, “entropy”}, default=”gini”\n",
        "# splitter : {“best”, “random”}, default=”best”\n",
        "# max_depth : int, default=None\n",
        "# min_samples_split : int or float, default=2\n",
        "# min_samples_leaf : int or float, default=1"
      ],
      "execution_count":17,
      "outputs":[
        
      ],
      "metadata":{
        
      }
    },
    {
      "cell_type":"code",
      "source":[
        "# Выбираем 2 числовых переменных, которые будут параметрами элементов набора данных\n",
        "# Метка класса всегда 'Species'\n",
        "n = 2\n",
        "x_labels = random.sample(num_columns, n)\n",
        "y_label = 'Species'\n",
        "\n",
        "print(x_labels)\n",
        "print(y_label)"
      ],
      "execution_count":18,
      "outputs":[
        {
          "name":"stdout",
          "text":[
            "['Length1', 'Length2']\n",
            "Species\n"
          ],
          "output_type":"stream"
        }
      ],
      "metadata":{
        
      }
    },
    {
      "cell_type":"code",
      "source":[
        "# Отберем необходимые параметры\n",
        "x_train = sc_train[x_labels]\n",
        "x_test = sc_test[x_labels]\n",
        "x_val = sc_val[x_labels]\n",
        "\n",
        "y_train = sc_train[y_label]\n",
        "y_test = sc_test[y_label]\n",
        "y_val = sc_val[y_label]"
      ],
      "execution_count":19,
      "outputs":[
        
      ],
      "metadata":{
        
      }
    },
    {
      "cell_type":"code",
      "source":[
        "x_train"
      ],
      "execution_count":20,
      "outputs":[
        {
          "data":{
            "text\/html":[
              "<div>\n",
              "<style scoped>\n",
              "    .dataframe tbody tr th:only-of-type {\n",
              "        vertical-align: middle;\n",
              "    }\n",
              "\n",
              "    .dataframe tbody tr th {\n",
              "        vertical-align: top;\n",
              "    }\n",
              "\n",
              "    .dataframe thead th {\n",
              "        text-align: right;\n",
              "    }\n",
              "<\/style>\n",
              "<table border=\"1\" class=\"dataframe\">\n",
              "  <thead>\n",
              "    <tr style=\"text-align: right;\">\n",
              "      <th><\/th>\n",
              "      <th>Length1<\/th>\n",
              "      <th>Length2<\/th>\n",
              "    <\/tr>\n",
              "  <\/thead>\n",
              "  <tbody>\n",
              "    <tr>\n",
              "      <th>0<\/th>\n",
              "      <td>0.195171<\/td>\n",
              "      <td>0.203358<\/td>\n",
              "    <\/tr>\n",
              "    <tr>\n",
              "      <th>1<\/th>\n",
              "      <td>0.255533<\/td>\n",
              "      <td>0.253731<\/td>\n",
              "    <\/tr>\n",
              "    <tr>\n",
              "      <th>2<\/th>\n",
              "      <td>0.187123<\/td>\n",
              "      <td>0.190299<\/td>\n",
              "    <\/tr>\n",
              "    <tr>\n",
              "      <th>3<\/th>\n",
              "      <td>0.714286<\/td>\n",
              "      <td>0.712687<\/td>\n",
              "    <\/tr>\n",
              "    <tr>\n",
              "      <th>4<\/th>\n",
              "      <td>0.368209<\/td>\n",
              "      <td>0.376866<\/td>\n",
              "    <\/tr>\n",
              "    <tr>\n",
              "      <th>...<\/th>\n",
              "      <td>...<\/td>\n",
              "      <td>...<\/td>\n",
              "    <\/tr>\n",
              "    <tr>\n",
              "      <th>90<\/th>\n",
              "      <td>0.639839<\/td>\n",
              "      <td>0.63806<\/td>\n",
              "    <\/tr>\n",
              "    <tr>\n",
              "      <th>91<\/th>\n",
              "      <td>0.444668<\/td>\n",
              "      <td>0.451493<\/td>\n",
              "    <\/tr>\n",
              "    <tr>\n",
              "      <th>92<\/th>\n",
              "      <td>0.62173<\/td>\n",
              "      <td>0.628731<\/td>\n",
              "    <\/tr>\n",
              "    <tr>\n",
              "      <th>93<\/th>\n",
              "      <td>0.434608<\/td>\n",
              "      <td>0.442164<\/td>\n",
              "    <\/tr>\n",
              "    <tr>\n",
              "      <th>94<\/th>\n",
              "      <td>0.490946<\/td>\n",
              "      <td>0.496269<\/td>\n",
              "    <\/tr>\n",
              "  <\/tbody>\n",
              "<\/table>\n",
              "<p>95 rows × 2 columns<\/p>\n",
              "<\/div>"
            ]
          },
          "metadata":{
            
          },
          "output_type":"display_data"
        }
      ],
      "metadata":{
        
      }
    },
    {
      "cell_type":"code",
      "source":[
        "# Создайте 4 модели с различными критериями ветвления criterion : 'gini', 'entropy' и splitter : 'best', 'random'.\n",
        "# Решите получившуюся задачу классификации с помощью созданных моделей и сравните их эффективность.\n",
        "# При необходимости применяйте параметры max_depth, min_samples_split, min_samples_leaf\n",
        "# Укажите, какая модель решает задачу лучше других.\n",
        "import itertools\n",
        "criterion = list(itertools.product(['gini', 'entropy'], ['best', 'random']))\n",
        "c_model_list = []\n",
        "for i in range(0,len(criterion)):\n",
        "    c_model_list.append(DecisionTreeClassifier(criterion[i][0], criterion[i][1], random_state=random_state))\n",
        "    c_model_list[i].fit(x_train, y_train)\n",
        "    print(i, c_model_list[i].score(x_val, y_val))"
      ],
      "execution_count":21,
      "outputs":[
        {
          "name":"stdout",
          "text":[
            "0 0.53125\n",
            "1 0.59375\n",
            "2 0.5625\n",
            "3 0.65625\n"
          ],
          "output_type":"stream"
        },
        {
          "name":"stderr",
          "text":[
            "\/opt\/python\/envs\/default\/lib\/python3.8\/site-packages\/sklearn\/utils\/validation.py:70: FutureWarning: Pass criterion=gini, splitter=best as keyword args. From version 1.0 (renaming of 0.25) passing these as positional arguments will result in an error\n",
            "  warnings.warn(f\"Pass {args_msg} as keyword args. From version \"\n",
            "\/opt\/python\/envs\/default\/lib\/python3.8\/site-packages\/sklearn\/utils\/validation.py:70: FutureWarning: Pass criterion=gini, splitter=random as keyword args. From version 1.0 (renaming of 0.25) passing these as positional arguments will result in an error\n",
            "  warnings.warn(f\"Pass {args_msg} as keyword args. From version \"\n",
            "\/opt\/python\/envs\/default\/lib\/python3.8\/site-packages\/sklearn\/utils\/validation.py:70: FutureWarning: Pass criterion=entropy, splitter=best as keyword args. From version 1.0 (renaming of 0.25) passing these as positional arguments will result in an error\n",
            "  warnings.warn(f\"Pass {args_msg} as keyword args. From version \"\n",
            "\/opt\/python\/envs\/default\/lib\/python3.8\/site-packages\/sklearn\/utils\/validation.py:70: FutureWarning: Pass criterion=entropy, splitter=random as keyword args. From version 1.0 (renaming of 0.25) passing these as positional arguments will result in an error\n",
            "  warnings.warn(f\"Pass {args_msg} as keyword args. From version \"\n"
          ],
          "output_type":"stream"
        }
      ],
      "metadata":{
        
      }
    },
    {
      "cell_type":"code",
      "source":[
        "test_pred = c_model_list[1].predict(x_test)\n",
        "f1 = f1_score(y_test, test_pred, average='weighted')\n",
        "print(f1,  c_model_list[1], sep='\\n')"
      ],
      "execution_count":22,
      "outputs":[
        {
          "name":"stdout",
          "text":[
            "0.52375\n",
            "DecisionTreeClassifier(random_state=2966462672, splitter='random')\n"
          ],
          "output_type":"stream"
        }
      ],
      "metadata":{
        
      }
    }
  ],
  "metadata":{
    
  },
  "nbformat":4,
  "nbformat_minor":0
}