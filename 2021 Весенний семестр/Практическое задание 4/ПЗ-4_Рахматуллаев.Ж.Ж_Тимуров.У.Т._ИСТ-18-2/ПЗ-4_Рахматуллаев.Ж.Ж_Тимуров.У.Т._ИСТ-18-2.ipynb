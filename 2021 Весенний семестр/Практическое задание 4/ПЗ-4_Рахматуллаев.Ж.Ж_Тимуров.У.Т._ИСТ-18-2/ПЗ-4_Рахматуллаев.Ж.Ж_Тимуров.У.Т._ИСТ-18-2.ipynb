{
  "cells":[
    {
      "cell_type":"code",
      "source":[
        "# Зависимости\n",
        "import pandas as pd\n",
        "import numpy as np\n",
        "import matplotlib.pyplot as plt\n",
        "import random\n",
        "\n",
        "from sklearn.model_selection import train_test_split\n",
        "from sklearn.preprocessing import MinMaxScaler\n",
        "from sklearn.compose import ColumnTransformer\n",
        "\n",
        "from sklearn.ensemble import BaggingRegressor, BaggingClassifier, RandomForestRegressor, RandomForestClassifier, GradientBoostingRegressor, GradientBoostingClassifier\n",
        "from xgboost import XGBRegressor, XGBClassifier\n",
        "\n",
        "from sklearn.metrics import mean_squared_error, f1_score"
      ],
      "execution_count":1,
      "outputs":[
        
      ],
      "metadata":{
        
      }
    },
    {
      "cell_type":"code",
      "source":[
        "# Генерируем уникальный seed\n",
        "my_code = \"Рахматуллаев и Тимуров\"\n",
        "seed_limit = 2 ** 32\n",
        "my_seed = int.from_bytes(my_code.encode(), \"little\") % seed_limit"
      ],
      "execution_count":2,
      "outputs":[
        
      ],
      "metadata":{
        
      }
    },
    {
      "cell_type":"code",
      "source":[
        "# Читаем данные из файла\n",
        "example_data = pd.read_csv(\"datasets\/Fish.csv\")"
      ],
      "execution_count":3,
      "outputs":[
        
      ],
      "metadata":{
        
      }
    },
    {
      "cell_type":"code",
      "source":[
        "example_data.head()"
      ],
      "execution_count":4,
      "outputs":[
        {
          "data":{
            "text\/html":[
              "<div>\n",
              "<style scoped>\n",
              "    .dataframe tbody tr th:only-of-type {\n",
              "        vertical-align: middle;\n",
              "    }\n",
              "\n",
              "    .dataframe tbody tr th {\n",
              "        vertical-align: top;\n",
              "    }\n",
              "\n",
              "    .dataframe thead th {\n",
              "        text-align: right;\n",
              "    }\n",
              "<\/style>\n",
              "<table border=\"1\" class=\"dataframe\">\n",
              "  <thead>\n",
              "    <tr style=\"text-align: right;\">\n",
              "      <th><\/th>\n",
              "      <th>Species<\/th>\n",
              "      <th>Weight<\/th>\n",
              "      <th>Length1<\/th>\n",
              "      <th>Length2<\/th>\n",
              "      <th>Length3<\/th>\n",
              "      <th>Height<\/th>\n",
              "      <th>Width<\/th>\n",
              "    <\/tr>\n",
              "  <\/thead>\n",
              "  <tbody>\n",
              "    <tr>\n",
              "      <th>0<\/th>\n",
              "      <td>Bream<\/td>\n",
              "      <td>242.0<\/td>\n",
              "      <td>23.2<\/td>\n",
              "      <td>25.4<\/td>\n",
              "      <td>30.0<\/td>\n",
              "      <td>11.5200<\/td>\n",
              "      <td>4.0200<\/td>\n",
              "    <\/tr>\n",
              "    <tr>\n",
              "      <th>1<\/th>\n",
              "      <td>Bream<\/td>\n",
              "      <td>290.0<\/td>\n",
              "      <td>24.0<\/td>\n",
              "      <td>26.3<\/td>\n",
              "      <td>31.2<\/td>\n",
              "      <td>12.4800<\/td>\n",
              "      <td>4.3056<\/td>\n",
              "    <\/tr>\n",
              "    <tr>\n",
              "      <th>2<\/th>\n",
              "      <td>Bream<\/td>\n",
              "      <td>340.0<\/td>\n",
              "      <td>23.9<\/td>\n",
              "      <td>26.5<\/td>\n",
              "      <td>31.1<\/td>\n",
              "      <td>12.3778<\/td>\n",
              "      <td>4.6961<\/td>\n",
              "    <\/tr>\n",
              "    <tr>\n",
              "      <th>3<\/th>\n",
              "      <td>Bream<\/td>\n",
              "      <td>363.0<\/td>\n",
              "      <td>26.3<\/td>\n",
              "      <td>29.0<\/td>\n",
              "      <td>33.5<\/td>\n",
              "      <td>12.7300<\/td>\n",
              "      <td>4.4555<\/td>\n",
              "    <\/tr>\n",
              "    <tr>\n",
              "      <th>4<\/th>\n",
              "      <td>Bream<\/td>\n",
              "      <td>430.0<\/td>\n",
              "      <td>26.5<\/td>\n",
              "      <td>29.0<\/td>\n",
              "      <td>34.0<\/td>\n",
              "      <td>12.4440<\/td>\n",
              "      <td>5.1340<\/td>\n",
              "    <\/tr>\n",
              "  <\/tbody>\n",
              "<\/table>\n",
              "<\/div>"
            ]
          },
          "metadata":{
            
          },
          "output_type":"display_data"
        }
      ],
      "metadata":{
        
      }
    },
    {
      "cell_type":"code",
      "source":[
        "# Определим размер валидационной и тестовой выборок\n",
        "val_test_size = round(0.2*len(example_data))\n",
        "print(val_test_size)"
      ],
      "execution_count":5,
      "outputs":[
        {
          "name":"stdout",
          "text":[
            "32\n"
          ],
          "output_type":"stream"
        }
      ],
      "metadata":{
        
      }
    },
    {
      "cell_type":"code",
      "source":[
        "# Создадим обучающую, валидационную и тестовую выборки\n",
        "random_state = my_seed\n",
        "train_val, test = train_test_split(example_data, test_size=val_test_size, random_state=random_state)\n",
        "train, val = train_test_split(train_val, test_size=val_test_size, random_state=random_state)\n",
        "print(len(train), len(val), len(test))"
      ],
      "execution_count":6,
      "outputs":[
        {
          "name":"stdout",
          "text":[
            "95 32 32\n"
          ],
          "output_type":"stream"
        }
      ],
      "metadata":{
        
      }
    },
    {
      "cell_type":"code",
      "source":[
        "# Значения в числовых столбцах преобразуем к отрезку [0,1].\n",
        "# Для настройки скалировщика используем только обучающую выборку.\n",
        "num_columns = ['Weight', 'Length1', 'Length2', 'Length3', 'Height', 'Width']\n",
        "\n",
        "ct = ColumnTransformer(transformers=[('numerical', MinMaxScaler(), num_columns)], remainder='passthrough')\n",
        "ct.fit(train)"
      ],
      "execution_count":7,
      "outputs":[
        {
          "data":{
            "text\/plain":[
              "ColumnTransformer(remainder='passthrough',\n",
              "                  transformers=[('numerical', MinMaxScaler(),\n",
              "                                 ['Weight', 'Length1', 'Length2', 'Length3',\n",
              "                                  'Height', 'Width'])])"
            ]
          },
          "metadata":{
            
          },
          "output_type":"display_data"
        }
      ],
      "metadata":{
        
      }
    },
    {
      "cell_type":"code",
      "source":[
        "# Преобразуем значения, тип данных приводим к DataFrame\n",
        "sc_train = pd.DataFrame(ct.transform(train))\n",
        "sc_test = pd.DataFrame(ct.transform(test))\n",
        "sc_val = pd.DataFrame(ct.transform(val))"
      ],
      "execution_count":8,
      "outputs":[
        
      ],
      "metadata":{
        
      }
    },
    {
      "cell_type":"code",
      "source":[
        "# Устанавливаем названия столбцов\n",
        "column_names = num_columns + ['Species']\n",
        "sc_train.columns = column_names\n",
        "sc_test.columns = column_names\n",
        "sc_val.columns = column_names"
      ],
      "execution_count":9,
      "outputs":[
        
      ],
      "metadata":{
        
      }
    },
    {
      "cell_type":"code",
      "source":[
        "# Явно укажем типы данных, это важно для xgboost\n",
        "types = {\n",
        "    'Weight' : 'float64',\n",
        "    'Length1' : 'float64',\n",
        "    'Length2' : 'float64',\n",
        "    'Length3' : 'float64',\n",
        "    'Height' : 'float64',\n",
        "    'Width' : 'float64',\n",
        "    'Species' : 'category'\n",
        "}\n",
        "sc_train = sc_train.astype(types)\n",
        "sc_test = sc_test.astype(types)\n",
        "sc_val = sc_val.astype(types)"
      ],
      "execution_count":10,
      "outputs":[
        
      ],
      "metadata":{
        
      }
    },
    {
      "cell_type":"code",
      "source":[
        "# Задание №1 - анализ различных типов ансамблей решений в задаче регрессии\n",
        "# https:\/\/scikit-learn.org\/stable\/modules\/generated\/sklearn.ensemble.BaggingRegressor.html\n",
        "# https:\/\/scikit-learn.org\/stable\/modules\/generated\/sklearn.ensemble.RandomForestRegressor.html\n",
        "# https:\/\/scikit-learn.org\/stable\/modules\/generated\/sklearn.ensemble.GradientBoostingRegressor.html\n",
        "# https:\/\/xgboost.readthedocs.io\/en\/latest\/python\/python_api.html#module-xgboost.sklearn"
      ],
      "execution_count":11,
      "outputs":[
        
      ],
      "metadata":{
        
      }
    },
    {
      "cell_type":"code",
      "source":[
        "# Выбираем 4 числовых переменных, три их них будут предикторами, одна - зависимой переменной\n",
        "n = 4\n",
        "labels = random.sample(num_columns, n)\n",
        "\n",
        "y_label = labels[0]\n",
        "x_labels = labels[1:]\n",
        "\n",
        "print(x_labels)\n",
        "print(y_label)"
      ],
      "execution_count":12,
      "outputs":[
        {
          "name":"stdout",
          "text":[
            "['Height', 'Width', 'Length1']\n",
            "Weight\n"
          ],
          "output_type":"stream"
        }
      ],
      "metadata":{
        
      }
    },
    {
      "cell_type":"code",
      "source":[
        "# Отберем необходимые параметры\n",
        "x_train = sc_train[x_labels]\n",
        "x_test = sc_test[x_labels]\n",
        "x_val = sc_val[x_labels]\n",
        "\n",
        "y_train = sc_train[y_label]\n",
        "y_test = sc_test[y_label]\n",
        "y_val = sc_val[y_label]"
      ],
      "execution_count":13,
      "outputs":[
        
      ],
      "metadata":{
        
      }
    },
    {
      "cell_type":"code",
      "source":[
        "# Создайте 4 различных модели с использованием следующих классов:\n",
        "# BaggingRegressor, RandomForestRegressor, GradientBoostingRegressor, XGBRegressor.\n",
        "# Решите получившуюся задачу регрессии с помощью созданных моделей и сравните их эффективность.\n",
        "# Укажите, какая модель решает задачу лучше других.\n",
        "\n",
        "score_list = []\n",
        "r_model_list = [BaggingRegressor(), RandomForestRegressor(), GradientBoostingRegressor(), XGBRegressor()]\n",
        "for i in range(len(r_model_list)):\n",
        "    r_model_list[i].fit(x_train, y_train)\n",
        "    score_list.append(r_model_list[i].score(x_val, y_val))\n",
        "    print(score_list[i])"
      ],
      "execution_count":14,
      "outputs":[
        {
          "name":"stdout",
          "text":[
            "0.9764034474599671\n",
            "0.9696609014142444\n",
            "0.9702160992868429\n",
            "0.9650613584644998\n"
          ],
          "output_type":"stream"
        },
        {
          "name":"stderr",
          "text":[
            "\/opt\/python\/envs\/default\/lib\/python3.8\/site-packages\/xgboost\/data.py:112: UserWarning: Use subset (sliced data) of np.ndarray is not recommended because it will generate extra copies and increase memory consumption\n",
            "  warnings.warn(\n"
          ],
          "output_type":"stream"
        }
      ],
      "metadata":{
        
      }
    },
    {
      "cell_type":"code",
      "source":[
        "best_model_r = r_model_list[score_list.index(max(score_list))]\n",
        "print(best_model_r)"
      ],
      "execution_count":15,
      "outputs":[
        {
          "name":"stdout",
          "text":[
            "BaggingRegressor()\n"
          ],
          "output_type":"stream"
        }
      ],
      "metadata":{
        
      }
    },
    {
      "cell_type":"code",
      "source":[
        "test_pred = best_model_r.predict(x_test)\n",
        "print(mean_squared_error(y_test, test_pred), sep='\\n')"
      ],
      "execution_count":16,
      "outputs":[
        {
          "name":"stdout",
          "text":[
            "0.0006408375312189061\n"
          ],
          "output_type":"stream"
        }
      ],
      "metadata":{
        
      }
    },
    {
      "cell_type":"code",
      "source":[
        "# Задание №2 - анализ различных типов ансамблей в задаче классификации\n",
        "# https:\/\/scikit-learn.org\/stable\/modules\/generated\/sklearn.ensemble.BaggingClassifier.html\n",
        "# https:\/\/scikit-learn.org\/stable\/modules\/generated\/sklearn.ensemble.RandomForestClassifier.html\n",
        "# https:\/\/scikit-learn.org\/stable\/modules\/generated\/sklearn.ensemble.GradientBoostingClassifier.html\n",
        "# https:\/\/xgboost.readthedocs.io\/en\/latest\/python\/python_api.html#module-xgboost.sklearn"
      ],
      "execution_count":17,
      "outputs":[
        
      ],
      "metadata":{
        
      }
    },
    {
      "cell_type":"code",
      "source":[
        "# Выбираем 2 числовых переменных, которые будут параметрами элементов набора данных\n",
        "# Метка класса всегда 'Species'\n",
        "n = 2\n",
        "x_labels = random.sample(num_columns, n)\n",
        "y_label = 'Species'\n",
        "\n",
        "print(x_labels)\n",
        "print(y_label)"
      ],
      "execution_count":18,
      "outputs":[
        {
          "name":"stdout",
          "text":[
            "['Length2', 'Width']\n",
            "Species\n"
          ],
          "output_type":"stream"
        }
      ],
      "metadata":{
        
      }
    },
    {
      "cell_type":"code",
      "source":[
        "# Отберем необходимые параметры\n",
        "x_train = sc_train[x_labels]\n",
        "x_test = sc_test[x_labels]\n",
        "x_val = sc_val[x_labels]\n",
        "\n",
        "y_train = sc_train[y_label]\n",
        "y_test = sc_test[y_label]\n",
        "y_val = sc_val[y_label]"
      ],
      "execution_count":19,
      "outputs":[
        
      ],
      "metadata":{
        
      }
    },
    {
      "cell_type":"code",
      "source":[
        "x_train"
      ],
      "execution_count":20,
      "outputs":[
        {
          "data":{
            "text\/html":[
              "<div>\n",
              "<style scoped>\n",
              "    .dataframe tbody tr th:only-of-type {\n",
              "        vertical-align: middle;\n",
              "    }\n",
              "\n",
              "    .dataframe tbody tr th {\n",
              "        vertical-align: top;\n",
              "    }\n",
              "\n",
              "    .dataframe thead th {\n",
              "        text-align: right;\n",
              "    }\n",
              "<\/style>\n",
              "<table border=\"1\" class=\"dataframe\">\n",
              "  <thead>\n",
              "    <tr style=\"text-align: right;\">\n",
              "      <th><\/th>\n",
              "      <th>Length2<\/th>\n",
              "      <th>Width<\/th>\n",
              "    <\/tr>\n",
              "  <\/thead>\n",
              "  <tbody>\n",
              "    <tr>\n",
              "      <th>0<\/th>\n",
              "      <td>0.203358<\/td>\n",
              "      <td>0.333051<\/td>\n",
              "    <\/tr>\n",
              "    <tr>\n",
              "      <th>1<\/th>\n",
              "      <td>0.253731<\/td>\n",
              "      <td>0.364175<\/td>\n",
              "    <\/tr>\n",
              "    <tr>\n",
              "      <th>2<\/th>\n",
              "      <td>0.190299<\/td>\n",
              "      <td>0.356140<\/td>\n",
              "    <\/tr>\n",
              "    <tr>\n",
              "      <th>3<\/th>\n",
              "      <td>0.712687<\/td>\n",
              "      <td>0.610115<\/td>\n",
              "    <\/tr>\n",
              "    <tr>\n",
              "      <th>4<\/th>\n",
              "      <td>0.376866<\/td>\n",
              "      <td>0.535098<\/td>\n",
              "    <\/tr>\n",
              "    <tr>\n",
              "      <th>...<\/th>\n",
              "      <td>...<\/td>\n",
              "      <td>...<\/td>\n",
              "    <\/tr>\n",
              "    <tr>\n",
              "      <th>90<\/th>\n",
              "      <td>0.638060<\/td>\n",
              "      <td>0.923010<\/td>\n",
              "    <\/tr>\n",
              "    <tr>\n",
              "      <th>91<\/th>\n",
              "      <td>0.451493<\/td>\n",
              "      <td>0.609326<\/td>\n",
              "    <\/tr>\n",
              "    <tr>\n",
              "      <th>92<\/th>\n",
              "      <td>0.628731<\/td>\n",
              "      <td>1.000000<\/td>\n",
              "    <\/tr>\n",
              "    <tr>\n",
              "      <th>93<\/th>\n",
              "      <td>0.442164<\/td>\n",
              "      <td>0.575975<\/td>\n",
              "    <\/tr>\n",
              "    <tr>\n",
              "      <th>94<\/th>\n",
              "      <td>0.496269<\/td>\n",
              "      <td>0.778924<\/td>\n",
              "    <\/tr>\n",
              "  <\/tbody>\n",
              "<\/table>\n",
              "<p>95 rows × 2 columns<\/p>\n",
              "<\/div>"
            ]
          },
          "metadata":{
            
          },
          "output_type":"display_data"
        }
      ],
      "metadata":{
        
      }
    },
    {
      "cell_type":"code",
      "source":[
        "# Создайте 4 различных модели с использованием следующих классов:\n",
        "# BaggingClassifier, RandomForestClassifier, GradientBoostingClassifier, XGBClassifier\n",
        "# Решите получившуюся задачу классификации с помощью созданных моделей и сравните их эффективность.\n",
        "# Укажите, какая модель решает задачу лучше других.\n",
        "\n",
        "score_list = []\n",
        "c_model_list = [BaggingClassifier(), RandomForestClassifier(), GradientBoostingClassifier(), XGBClassifier()]\n",
        "for i in range(len(c_model_list)):\n",
        "    c_model_list[i].fit(x_train, y_train)\n",
        "    score_list.append(c_model_list[i].score(x_val, y_val))\n",
        "    print(score_list[i])"
      ],
      "execution_count":21,
      "outputs":[
        {
          "name":"stdout",
          "text":[
            "0.5625\n",
            "0.5625\n",
            "0.625\n",
            "[11:22:07] WARNING: ..\/src\/learner.cc:1095: Starting in XGBoost 1.3.0, the default evaluation metric used with the objective 'multi:softprob' was changed from 'merror' to 'mlogloss'. Explicitly set eval_metric if you'd like to restore the old behavior.\n",
            "0.5\n"
          ],
          "output_type":"stream"
        },
        {
          "name":"stderr",
          "text":[
            "\/opt\/python\/envs\/default\/lib\/python3.8\/site-packages\/xgboost\/sklearn.py:1146: UserWarning: The use of label encoder in XGBClassifier is deprecated and will be removed in a future release. To remove this warning, do the following: 1) Pass option use_label_encoder=False when constructing XGBClassifier object; and 2) Encode your labels (y) as integers starting with 0, i.e. 0, 1, 2, ..., [num_class - 1].\n",
            "  warnings.warn(label_encoder_deprecation_msg, UserWarning)\n",
            "\/opt\/python\/envs\/default\/lib\/python3.8\/site-packages\/xgboost\/data.py:112: UserWarning: Use subset (sliced data) of np.ndarray is not recommended because it will generate extra copies and increase memory consumption\n",
            "  warnings.warn(\n"
          ],
          "output_type":"stream"
        }
      ],
      "metadata":{
        
      }
    },
    {
      "cell_type":"code",
      "source":[
        "best_model_c = c_model_list[score_list.index(max(score_list))]\n",
        "print(best_model_c)"
      ],
      "execution_count":22,
      "outputs":[
        {
          "name":"stdout",
          "text":[
            "GradientBoostingClassifier()\n"
          ],
          "output_type":"stream"
        }
      ],
      "metadata":{
        
      }
    },
    {
      "cell_type":"code",
      "source":[
        "test_pred = best_model_c.predict(x_test)\n",
        "f1 = f1_score(y_test, test_pred, average='weighted')\n",
        "print(f1, sep='\\n')"
      ],
      "execution_count":23,
      "outputs":[
        {
          "name":"stdout",
          "text":[
            "0.6753571428571429\n"
          ],
          "output_type":"stream"
        }
      ],
      "metadata":{
        
      }
    }
  ],
  "metadata":{
    
  },
  "nbformat":4,
  "nbformat_minor":0
}