{
  "cells":[
    {
      "cell_type":"code",
      "source":[
        "# Зависимости\n",
        "import pandas as pd\n",
        "import numpy as np\n",
        "import matplotlib.pyplot as plt\n",
        "import random\n",
        "import os\n",
        "\n",
        "from sklearn.model_selection import train_test_split\n",
        "from sklearn.preprocessing import MinMaxScaler, OneHotEncoder\n",
        "from sklearn.compose import ColumnTransformer\n",
        "\n",
        "from sklearn.linear_model import LogisticRegression\n",
        "from sklearn.neighbors import  KNeighborsClassifier\n",
        "from sklearn.tree import  DecisionTreeClassifier, plot_tree\n",
        "\n",
        "\n",
        "from sklearn.metrics import f1_score\n",
        "\n",
        "import tensorflow as tf\n",
        "from tensorflow.keras.models import Sequential \n",
        "from tensorflow.keras.layers import Dense, Dropout"
      ],
      "execution_count":1,
      "outputs":[
        
      ],
      "metadata":{
        
      }
    },
    {
      "cell_type":"code",
      "source":[
        "from tensorflow import compat\n",
        "# Инициализируем все известные генераторы случаынйх чисел \/ Setting all known random seeds\n",
        "my_code = \"Рахматуллаев и Тимуров\"\n",
        "seed_limit = 2 ** 32\n",
        "my_seed = int.from_bytes(my_code.encode(), \"little\") % seed_limit\n",
        "\n",
        "os.environ['PYTHONHASHSEED']=str(my_seed)\n",
        "\n",
        "random.seed(my_seed)\n",
        "\n",
        "np.random.seed(my_seed)\n",
        "\n",
        "tf.compat.v1.set_random_seed(my_seed)\n",
        "\n",
        "session_conf = tf.compat.v1.ConfigProto(intra_op_parallelism_threads=1, inter_op_parallelism_threads=1)\n",
        "sess = tf.compat.v1.Session(graph=tf.compat.v1.get_default_graph(), config=session_conf)\n",
        "tf.compat.v1.keras.backend.set_session(sess)"
      ],
      "execution_count":2,
      "outputs":[
        
      ],
      "metadata":{
        
      }
    },
    {
      "cell_type":"code",
      "source":[
        "# Читаем данные из файла\n",
        "train_data = pd.read_csv(\"datasets\/iris_train.csv\")"
      ],
      "execution_count":3,
      "outputs":[
        
      ],
      "metadata":{
        
      }
    },
    {
      "cell_type":"code",
      "source":[
        "train_data.head()"
      ],
      "execution_count":4,
      "outputs":[
        {
          "data":{
            "text\/html":[
              "<div>\n",
              "<style scoped>\n",
              "    .dataframe tbody tr th:only-of-type {\n",
              "        vertical-align: middle;\n",
              "    }\n",
              "\n",
              "    .dataframe tbody tr th {\n",
              "        vertical-align: top;\n",
              "    }\n",
              "\n",
              "    .dataframe thead th {\n",
              "        text-align: right;\n",
              "    }\n",
              "<\/style>\n",
              "<table border=\"1\" class=\"dataframe\">\n",
              "  <thead>\n",
              "    <tr style=\"text-align: right;\">\n",
              "      <th><\/th>\n",
              "      <th>sepal_length<\/th>\n",
              "      <th>sepal_width<\/th>\n",
              "      <th>petal_length<\/th>\n",
              "      <th>petal_width<\/th>\n",
              "      <th>species<\/th>\n",
              "    <\/tr>\n",
              "  <\/thead>\n",
              "  <tbody>\n",
              "    <tr>\n",
              "      <th>0<\/th>\n",
              "      <td>5.7<\/td>\n",
              "      <td>2.6<\/td>\n",
              "      <td>3.5<\/td>\n",
              "      <td>1.0<\/td>\n",
              "      <td>Iris-versicolor<\/td>\n",
              "    <\/tr>\n",
              "    <tr>\n",
              "      <th>1<\/th>\n",
              "      <td>5.1<\/td>\n",
              "      <td>3.8<\/td>\n",
              "      <td>1.5<\/td>\n",
              "      <td>0.3<\/td>\n",
              "      <td>Iris-setosa<\/td>\n",
              "    <\/tr>\n",
              "    <tr>\n",
              "      <th>2<\/th>\n",
              "      <td>5.4<\/td>\n",
              "      <td>3.9<\/td>\n",
              "      <td>1.3<\/td>\n",
              "      <td>0.4<\/td>\n",
              "      <td>Iris-setosa<\/td>\n",
              "    <\/tr>\n",
              "    <tr>\n",
              "      <th>3<\/th>\n",
              "      <td>6.5<\/td>\n",
              "      <td>3.0<\/td>\n",
              "      <td>5.2<\/td>\n",
              "      <td>2.0<\/td>\n",
              "      <td>Iris-virginica<\/td>\n",
              "    <\/tr>\n",
              "    <tr>\n",
              "      <th>4<\/th>\n",
              "      <td>6.9<\/td>\n",
              "      <td>3.1<\/td>\n",
              "      <td>4.9<\/td>\n",
              "      <td>1.5<\/td>\n",
              "      <td>Iris-versicolor<\/td>\n",
              "    <\/tr>\n",
              "  <\/tbody>\n",
              "<\/table>\n",
              "<\/div>"
            ]
          },
          "metadata":{
            
          },
          "output_type":"display_data"
        }
      ],
      "metadata":{
        
      }
    },
    {
      "cell_type":"code",
      "source":[
        "# Определим размер валидационной выборки\n",
        "val_size = round(0.2*len(train_data))\n",
        "print(val_size)"
      ],
      "execution_count":5,
      "outputs":[
        {
          "name":"stdout",
          "text":[
            "24\n"
          ],
          "output_type":"stream"
        }
      ],
      "metadata":{
        
      }
    },
    {
      "cell_type":"code",
      "source":[
        "# Создадим обучающую и валидационную выборки\n",
        "random_state = my_seed\n",
        "train, val = train_test_split(train_data, test_size=val_size, random_state=random_state)\n",
        "print(len(train), len(val))"
      ],
      "execution_count":6,
      "outputs":[
        {
          "name":"stdout",
          "text":[
            "96 24\n"
          ],
          "output_type":"stream"
        }
      ],
      "metadata":{
        
      }
    },
    {
      "cell_type":"code",
      "source":[
        "# Значения в числовых столбцах преобразуем к отрезку [0,1].\n",
        "# Для настройки скалировщика используем только обучающую выборку.\n",
        "num_columns = ['sepal_length', 'sepal_width', 'petal_length', 'petal_width']\n",
        "ord_columns = ['species']\n",
        "\n",
        "ct = ColumnTransformer(transformers=[('numerical', MinMaxScaler(), num_columns)], remainder='passthrough')\n",
        "\n",
        "ct.fit(train)"
      ],
      "execution_count":7,
      "outputs":[
        {
          "data":{
            "text\/plain":[
              "ColumnTransformer(remainder='passthrough',\n",
              "                  transformers=[('numerical', MinMaxScaler(),\n",
              "                                 ['sepal_length', 'sepal_width', 'petal_length',\n",
              "                                  'petal_width'])])"
            ]
          },
          "metadata":{
            
          },
          "output_type":"display_data"
        }
      ],
      "metadata":{
        
      }
    },
    {
      "cell_type":"code",
      "source":[
        "# Преобразуем значения, тип данных приводим к DataFrame\n",
        "sc_train = pd.DataFrame(ct.transform(train))\n",
        "sc_val = pd.DataFrame(ct.transform(val))"
      ],
      "execution_count":8,
      "outputs":[
        
      ],
      "metadata":{
        
      }
    },
    {
      "cell_type":"code",
      "source":[
        "# Устанавливаем названия столбцов\n",
        "column_names = num_columns + ord_columns\n",
        "sc_train.columns = column_names\n",
        "sc_val.columns = column_names"
      ],
      "execution_count":9,
      "outputs":[
        
      ],
      "metadata":{
        
      }
    },
    {
      "cell_type":"code",
      "source":[
        "sc_train"
      ],
      "execution_count":10,
      "outputs":[
        {
          "data":{
            "text\/html":[
              "<div>\n",
              "<style scoped>\n",
              "    .dataframe tbody tr th:only-of-type {\n",
              "        vertical-align: middle;\n",
              "    }\n",
              "\n",
              "    .dataframe tbody tr th {\n",
              "        vertical-align: top;\n",
              "    }\n",
              "\n",
              "    .dataframe thead th {\n",
              "        text-align: right;\n",
              "    }\n",
              "<\/style>\n",
              "<table border=\"1\" class=\"dataframe\">\n",
              "  <thead>\n",
              "    <tr style=\"text-align: right;\">\n",
              "      <th><\/th>\n",
              "      <th>sepal_length<\/th>\n",
              "      <th>sepal_width<\/th>\n",
              "      <th>petal_length<\/th>\n",
              "      <th>petal_width<\/th>\n",
              "      <th>species<\/th>\n",
              "    <\/tr>\n",
              "  <\/thead>\n",
              "  <tbody>\n",
              "    <tr>\n",
              "      <th>0<\/th>\n",
              "      <td>0.0<\/td>\n",
              "      <td>0.416667<\/td>\n",
              "      <td>0.016949<\/td>\n",
              "      <td>0.0<\/td>\n",
              "      <td>Iris-setosa<\/td>\n",
              "    <\/tr>\n",
              "    <tr>\n",
              "      <th>1<\/th>\n",
              "      <td>0.323529<\/td>\n",
              "      <td>0.583333<\/td>\n",
              "      <td>0.118644<\/td>\n",
              "      <td>0.041667<\/td>\n",
              "      <td>Iris-setosa<\/td>\n",
              "    <\/tr>\n",
              "    <tr>\n",
              "      <th>2<\/th>\n",
              "      <td>0.205882<\/td>\n",
              "      <td>0.666667<\/td>\n",
              "      <td>0.067797<\/td>\n",
              "      <td>0.041667<\/td>\n",
              "      <td>Iris-setosa<\/td>\n",
              "    <\/tr>\n",
              "    <tr>\n",
              "      <th>3<\/th>\n",
              "      <td>0.176471<\/td>\n",
              "      <td>0.166667<\/td>\n",
              "      <td>0.389831<\/td>\n",
              "      <td>0.375<\/td>\n",
              "      <td>Iris-versicolor<\/td>\n",
              "    <\/tr>\n",
              "    <tr>\n",
              "      <th>4<\/th>\n",
              "      <td>0.058824<\/td>\n",
              "      <td>0.125<\/td>\n",
              "      <td>0.050847<\/td>\n",
              "      <td>0.083333<\/td>\n",
              "      <td>Iris-setosa<\/td>\n",
              "    <\/tr>\n",
              "    <tr>\n",
              "      <th>...<\/th>\n",
              "      <td>...<\/td>\n",
              "      <td>...<\/td>\n",
              "      <td>...<\/td>\n",
              "      <td>...<\/td>\n",
              "      <td>...<\/td>\n",
              "    <\/tr>\n",
              "    <tr>\n",
              "      <th>91<\/th>\n",
              "      <td>0.029412<\/td>\n",
              "      <td>0.375<\/td>\n",
              "      <td>0.067797<\/td>\n",
              "      <td>0.041667<\/td>\n",
              "      <td>Iris-setosa<\/td>\n",
              "    <\/tr>\n",
              "    <tr>\n",
              "      <th>92<\/th>\n",
              "      <td>0.205882<\/td>\n",
              "      <td>0.583333<\/td>\n",
              "      <td>0.084746<\/td>\n",
              "      <td>0.041667<\/td>\n",
              "      <td>Iris-setosa<\/td>\n",
              "    <\/tr>\n",
              "    <tr>\n",
              "      <th>93<\/th>\n",
              "      <td>0.323529<\/td>\n",
              "      <td>0.416667<\/td>\n",
              "      <td>0.59322<\/td>\n",
              "      <td>0.583333<\/td>\n",
              "      <td>Iris-versicolor<\/td>\n",
              "    <\/tr>\n",
              "    <tr>\n",
              "      <th>94<\/th>\n",
              "      <td>0.705882<\/td>\n",
              "      <td>0.416667<\/td>\n",
              "      <td>0.711864<\/td>\n",
              "      <td>0.916667<\/td>\n",
              "      <td>Iris-virginica<\/td>\n",
              "    <\/tr>\n",
              "    <tr>\n",
              "      <th>95<\/th>\n",
              "      <td>0.647059<\/td>\n",
              "      <td>0.416667<\/td>\n",
              "      <td>0.813559<\/td>\n",
              "      <td>0.875<\/td>\n",
              "      <td>Iris-virginica<\/td>\n",
              "    <\/tr>\n",
              "  <\/tbody>\n",
              "<\/table>\n",
              "<p>96 rows × 5 columns<\/p>\n",
              "<\/div>"
            ]
          },
          "metadata":{
            
          },
          "output_type":"display_data"
        }
      ],
      "metadata":{
        
      }
    },
    {
      "cell_type":"code",
      "source":[
        "# Отберем необходимые параметры\n",
        "x_train = sc_train[num_columns]\n",
        "x_val = sc_val[num_columns]\n",
        "\n",
        "y_train = (sc_train[ord_columns].values).flatten()\n",
        "y_val = (sc_val[ord_columns].values).flatten()"
      ],
      "execution_count":11,
      "outputs":[
        
      ],
      "metadata":{
        
      }
    },
    {
      "cell_type":"code",
      "source":[
        "# Создадим простую модель k ближайших соседей\n",
        "model = KNeighborsClassifier(n_neighbors=10)"
      ],
      "execution_count":12,
      "outputs":[
        
      ],
      "metadata":{
        
      }
    },
    {
      "cell_type":"code",
      "source":[
        "# Обучим модель\n",
        "model.fit(x_train, y_train)"
      ],
      "execution_count":13,
      "outputs":[
        {
          "data":{
            "text\/plain":[
              "KNeighborsClassifier(n_neighbors=10)"
            ]
          },
          "metadata":{
            
          },
          "output_type":"display_data"
        }
      ],
      "metadata":{
        
      }
    },
    {
      "cell_type":"code",
      "source":[
        "# Проверим работу обученной нейронной сети на валидационной выборке\n",
        "pred_val = model.predict(x_val)\n",
        "f1 = f1_score(y_val, pred_val, average='weighted')\n",
        "print(f1)"
      ],
      "execution_count":14,
      "outputs":[
        {
          "name":"stdout",
          "text":[
            "0.8746867167919801\n"
          ],
          "output_type":"stream"
        }
      ],
      "metadata":{
        
      }
    },
    {
      "cell_type":"code",
      "source":[
        "test = pd.read_csv(\"datasets\/iris_test.csv\")"
      ],
      "execution_count":15,
      "outputs":[
        
      ],
      "metadata":{
        
      }
    },
    {
      "cell_type":"code",
      "source":[
        "test['species'] = ''"
      ],
      "execution_count":16,
      "outputs":[
        
      ],
      "metadata":{
        
      }
    },
    {
      "cell_type":"code",
      "source":[
        "test.head()"
      ],
      "execution_count":17,
      "outputs":[
        {
          "data":{
            "text\/html":[
              "<div>\n",
              "<style scoped>\n",
              "    .dataframe tbody tr th:only-of-type {\n",
              "        vertical-align: middle;\n",
              "    }\n",
              "\n",
              "    .dataframe tbody tr th {\n",
              "        vertical-align: top;\n",
              "    }\n",
              "\n",
              "    .dataframe thead th {\n",
              "        text-align: right;\n",
              "    }\n",
              "<\/style>\n",
              "<table border=\"1\" class=\"dataframe\">\n",
              "  <thead>\n",
              "    <tr style=\"text-align: right;\">\n",
              "      <th><\/th>\n",
              "      <th>sepal_length<\/th>\n",
              "      <th>sepal_width<\/th>\n",
              "      <th>petal_length<\/th>\n",
              "      <th>petal_width<\/th>\n",
              "      <th>species<\/th>\n",
              "    <\/tr>\n",
              "  <\/thead>\n",
              "  <tbody>\n",
              "    <tr>\n",
              "      <th>0<\/th>\n",
              "      <td>5.4<\/td>\n",
              "      <td>3.7<\/td>\n",
              "      <td>1.5<\/td>\n",
              "      <td>0.2<\/td>\n",
              "      <td><\/td>\n",
              "    <\/tr>\n",
              "    <tr>\n",
              "      <th>1<\/th>\n",
              "      <td>6.0<\/td>\n",
              "      <td>3.4<\/td>\n",
              "      <td>4.5<\/td>\n",
              "      <td>1.6<\/td>\n",
              "      <td><\/td>\n",
              "    <\/tr>\n",
              "    <tr>\n",
              "      <th>2<\/th>\n",
              "      <td>5.9<\/td>\n",
              "      <td>3.0<\/td>\n",
              "      <td>4.2<\/td>\n",
              "      <td>1.5<\/td>\n",
              "      <td><\/td>\n",
              "    <\/tr>\n",
              "    <tr>\n",
              "      <th>3<\/th>\n",
              "      <td>5.7<\/td>\n",
              "      <td>3.0<\/td>\n",
              "      <td>4.2<\/td>\n",
              "      <td>1.2<\/td>\n",
              "      <td><\/td>\n",
              "    <\/tr>\n",
              "    <tr>\n",
              "      <th>4<\/th>\n",
              "      <td>5.6<\/td>\n",
              "      <td>2.7<\/td>\n",
              "      <td>4.2<\/td>\n",
              "      <td>1.3<\/td>\n",
              "      <td><\/td>\n",
              "    <\/tr>\n",
              "  <\/tbody>\n",
              "<\/table>\n",
              "<\/div>"
            ]
          },
          "metadata":{
            
          },
          "output_type":"display_data"
        }
      ],
      "metadata":{
        
      }
    },
    {
      "cell_type":"code",
      "source":[
        "sc_test = pd.DataFrame(ct.transform(test))\n",
        "sc_test.columns = column_names"
      ],
      "execution_count":18,
      "outputs":[
        
      ],
      "metadata":{
        
      }
    },
    {
      "cell_type":"code",
      "source":[
        "x_test = sc_test[num_columns]"
      ],
      "execution_count":19,
      "outputs":[
        
      ],
      "metadata":{
        
      }
    },
    {
      "cell_type":"code",
      "source":[
        "test['species'] = model.predict(x_test)"
      ],
      "execution_count":20,
      "outputs":[
        
      ],
      "metadata":{
        
      }
    },
    {
      "cell_type":"code",
      "source":[
        "test.head()"
      ],
      "execution_count":21,
      "outputs":[
        {
          "data":{
            "text\/html":[
              "<div>\n",
              "<style scoped>\n",
              "    .dataframe tbody tr th:only-of-type {\n",
              "        vertical-align: middle;\n",
              "    }\n",
              "\n",
              "    .dataframe tbody tr th {\n",
              "        vertical-align: top;\n",
              "    }\n",
              "\n",
              "    .dataframe thead th {\n",
              "        text-align: right;\n",
              "    }\n",
              "<\/style>\n",
              "<table border=\"1\" class=\"dataframe\">\n",
              "  <thead>\n",
              "    <tr style=\"text-align: right;\">\n",
              "      <th><\/th>\n",
              "      <th>sepal_length<\/th>\n",
              "      <th>sepal_width<\/th>\n",
              "      <th>petal_length<\/th>\n",
              "      <th>petal_width<\/th>\n",
              "      <th>species<\/th>\n",
              "    <\/tr>\n",
              "  <\/thead>\n",
              "  <tbody>\n",
              "    <tr>\n",
              "      <th>0<\/th>\n",
              "      <td>5.4<\/td>\n",
              "      <td>3.7<\/td>\n",
              "      <td>1.5<\/td>\n",
              "      <td>0.2<\/td>\n",
              "      <td>Iris-setosa<\/td>\n",
              "    <\/tr>\n",
              "    <tr>\n",
              "      <th>1<\/th>\n",
              "      <td>6.0<\/td>\n",
              "      <td>3.4<\/td>\n",
              "      <td>4.5<\/td>\n",
              "      <td>1.6<\/td>\n",
              "      <td>Iris-versicolor<\/td>\n",
              "    <\/tr>\n",
              "    <tr>\n",
              "      <th>2<\/th>\n",
              "      <td>5.9<\/td>\n",
              "      <td>3.0<\/td>\n",
              "      <td>4.2<\/td>\n",
              "      <td>1.5<\/td>\n",
              "      <td>Iris-versicolor<\/td>\n",
              "    <\/tr>\n",
              "    <tr>\n",
              "      <th>3<\/th>\n",
              "      <td>5.7<\/td>\n",
              "      <td>3.0<\/td>\n",
              "      <td>4.2<\/td>\n",
              "      <td>1.2<\/td>\n",
              "      <td>Iris-versicolor<\/td>\n",
              "    <\/tr>\n",
              "    <tr>\n",
              "      <th>4<\/th>\n",
              "      <td>5.6<\/td>\n",
              "      <td>2.7<\/td>\n",
              "      <td>4.2<\/td>\n",
              "      <td>1.3<\/td>\n",
              "      <td>Iris-versicolor<\/td>\n",
              "    <\/tr>\n",
              "  <\/tbody>\n",
              "<\/table>\n",
              "<\/div>"
            ]
          },
          "metadata":{
            
          },
          "output_type":"display_data"
        }
      ],
      "metadata":{
        
      }
    },
    {
      "cell_type":"code",
      "source":[
        "test.to_csv('R_T_test_result.csv', index=False)"
      ],
      "execution_count":22,
      "outputs":[
        
      ],
      "metadata":{
        
      }
    }
  ],
  "metadata":{
    
  },
  "nbformat":4,
  "nbformat_minor":0
}