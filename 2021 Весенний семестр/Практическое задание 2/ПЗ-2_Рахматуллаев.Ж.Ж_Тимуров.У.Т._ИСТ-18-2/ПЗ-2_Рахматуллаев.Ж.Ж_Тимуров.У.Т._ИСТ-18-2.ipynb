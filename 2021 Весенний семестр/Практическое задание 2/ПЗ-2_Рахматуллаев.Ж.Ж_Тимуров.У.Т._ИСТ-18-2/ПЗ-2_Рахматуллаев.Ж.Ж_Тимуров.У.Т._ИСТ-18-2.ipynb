{
  "cells":[
    {
      "cell_type":"code",
      "source":[
        "# Зависимости\n",
        "import pandas as pd\n",
        "# import numpy as np\n",
        "# import matplotlib.pyplot as plt\n",
        "import random\n",
        "\n",
        "from sklearn.model_selection import train_test_split\n",
        "from sklearn.preprocessing import MinMaxScaler\n",
        "from sklearn.compose import ColumnTransformer\n",
        "\n",
        "from sklearn.svm import SVR, SVC\n",
        "\n",
        "from sklearn.metrics import mean_squared_error, f1_score"
      ],
      "execution_count":62,
      "outputs":[
        
      ],
      "metadata":{
        
      }
    },
    {
      "cell_type":"code",
      "source":[
        "# Генерируем уникальный seed\n",
        "my_code = \"Рахматуллаев и Тимуров\"\n",
        "seed_limit = 2 ** 32\n",
        "my_seed = int.from_bytes(my_code.encode(), \"little\") % seed_limit"
      ],
      "execution_count":63,
      "outputs":[
        
      ],
      "metadata":{
        
      }
    },
    {
      "cell_type":"code",
      "source":[
        "# Читаем данные из файла\n",
        "example_data = pd.read_csv(\"datasets\/Fish.csv\")"
      ],
      "execution_count":64,
      "outputs":[
        
      ],
      "metadata":{
        
      }
    },
    {
      "cell_type":"code",
      "source":[
        "example_data.head()"
      ],
      "execution_count":65,
      "outputs":[
        {
          "data":{
            "text\/html":[
              "<div>\n",
              "<style scoped>\n",
              "    .dataframe tbody tr th:only-of-type {\n",
              "        vertical-align: middle;\n",
              "    }\n",
              "\n",
              "    .dataframe tbody tr th {\n",
              "        vertical-align: top;\n",
              "    }\n",
              "\n",
              "    .dataframe thead th {\n",
              "        text-align: right;\n",
              "    }\n",
              "<\/style>\n",
              "<table border=\"1\" class=\"dataframe\">\n",
              "  <thead>\n",
              "    <tr style=\"text-align: right;\">\n",
              "      <th><\/th>\n",
              "      <th>Species<\/th>\n",
              "      <th>Weight<\/th>\n",
              "      <th>Length1<\/th>\n",
              "      <th>Length2<\/th>\n",
              "      <th>Length3<\/th>\n",
              "      <th>Height<\/th>\n",
              "      <th>Width<\/th>\n",
              "    <\/tr>\n",
              "  <\/thead>\n",
              "  <tbody>\n",
              "    <tr>\n",
              "      <th>0<\/th>\n",
              "      <td>Bream<\/td>\n",
              "      <td>242.0<\/td>\n",
              "      <td>23.2<\/td>\n",
              "      <td>25.4<\/td>\n",
              "      <td>30.0<\/td>\n",
              "      <td>11.5200<\/td>\n",
              "      <td>4.0200<\/td>\n",
              "    <\/tr>\n",
              "    <tr>\n",
              "      <th>1<\/th>\n",
              "      <td>Bream<\/td>\n",
              "      <td>290.0<\/td>\n",
              "      <td>24.0<\/td>\n",
              "      <td>26.3<\/td>\n",
              "      <td>31.2<\/td>\n",
              "      <td>12.4800<\/td>\n",
              "      <td>4.3056<\/td>\n",
              "    <\/tr>\n",
              "    <tr>\n",
              "      <th>2<\/th>\n",
              "      <td>Bream<\/td>\n",
              "      <td>340.0<\/td>\n",
              "      <td>23.9<\/td>\n",
              "      <td>26.5<\/td>\n",
              "      <td>31.1<\/td>\n",
              "      <td>12.3778<\/td>\n",
              "      <td>4.6961<\/td>\n",
              "    <\/tr>\n",
              "    <tr>\n",
              "      <th>3<\/th>\n",
              "      <td>Bream<\/td>\n",
              "      <td>363.0<\/td>\n",
              "      <td>26.3<\/td>\n",
              "      <td>29.0<\/td>\n",
              "      <td>33.5<\/td>\n",
              "      <td>12.7300<\/td>\n",
              "      <td>4.4555<\/td>\n",
              "    <\/tr>\n",
              "    <tr>\n",
              "      <th>4<\/th>\n",
              "      <td>Bream<\/td>\n",
              "      <td>430.0<\/td>\n",
              "      <td>26.5<\/td>\n",
              "      <td>29.0<\/td>\n",
              "      <td>34.0<\/td>\n",
              "      <td>12.4440<\/td>\n",
              "      <td>5.1340<\/td>\n",
              "    <\/tr>\n",
              "  <\/tbody>\n",
              "<\/table>\n",
              "<\/div>"
            ]
          },
          "metadata":{
            
          },
          "output_type":"display_data"
        }
      ],
      "metadata":{
        
      }
    },
    {
      "cell_type":"code",
      "source":[
        "# Определим размер валидационной и тестовой выборок\n",
        "val_test_size = round(0.2*len(example_data))\n",
        "print(val_test_size)"
      ],
      "execution_count":66,
      "outputs":[
        {
          "name":"stdout",
          "text":[
            "32\n"
          ],
          "output_type":"stream"
        }
      ],
      "metadata":{
        
      }
    },
    {
      "cell_type":"code",
      "source":[
        "# Создадим обучающую, валидационную и тестовую выборки\n",
        "random_state = my_seed\n",
        "train_val, test = train_test_split(example_data, test_size=val_test_size, random_state=random_state)\n",
        "train, val = train_test_split(train_val, test_size=val_test_size, random_state=random_state)\n",
        "print(len(train), len(val), len(test))"
      ],
      "execution_count":67,
      "outputs":[
        {
          "name":"stdout",
          "text":[
            "95 32 32\n"
          ],
          "output_type":"stream"
        }
      ],
      "metadata":{
        
      }
    },
    {
      "cell_type":"code",
      "source":[
        "# Значения в числовых столбцах преобразуем к отрезку [0,1].\n",
        "# Для настройки скалировщика используем только обучающую выборку.\n",
        "num_columns = ['Weight', 'Length1', 'Length2', 'Length3', 'Height', 'Width']\n",
        "\n",
        "ct = ColumnTransformer(transformers=[('numerical', MinMaxScaler(), num_columns)], remainder='passthrough')\n",
        "ct.fit(train)"
      ],
      "execution_count":68,
      "outputs":[
        {
          "data":{
            "text\/plain":[
              "ColumnTransformer(remainder='passthrough',\n",
              "                  transformers=[('numerical', MinMaxScaler(),\n",
              "                                 ['Weight', 'Length1', 'Length2', 'Length3',\n",
              "                                  'Height', 'Width'])])"
            ]
          },
          "metadata":{
            
          },
          "output_type":"display_data"
        }
      ],
      "metadata":{
        
      }
    },
    {
      "cell_type":"code",
      "source":[
        "# Преобразуем значения, тип данных приводим к DataFrame\n",
        "sc_train = pd.DataFrame(ct.transform(train))\n",
        "sc_test = pd.DataFrame(ct.transform(test))\n",
        "sc_val = pd.DataFrame(ct.transform(val))"
      ],
      "execution_count":69,
      "outputs":[
        
      ],
      "metadata":{
        
      }
    },
    {
      "cell_type":"code",
      "source":[
        "# Устанавливаем названия столбцов\n",
        "column_names = num_columns + ['Species']\n",
        "sc_train.columns = column_names\n",
        "sc_test.columns = column_names\n",
        "sc_val.columns = column_names"
      ],
      "execution_count":70,
      "outputs":[
        
      ],
      "metadata":{
        
      }
    },
    {
      "cell_type":"code",
      "source":[
        "sc_train"
      ],
      "execution_count":71,
      "outputs":[
        {
          "data":{
            "text\/html":[
              "<div>\n",
              "<style scoped>\n",
              "    .dataframe tbody tr th:only-of-type {\n",
              "        vertical-align: middle;\n",
              "    }\n",
              "\n",
              "    .dataframe tbody tr th {\n",
              "        vertical-align: top;\n",
              "    }\n",
              "\n",
              "    .dataframe thead th {\n",
              "        text-align: right;\n",
              "    }\n",
              "<\/style>\n",
              "<table border=\"1\" class=\"dataframe\">\n",
              "  <thead>\n",
              "    <tr style=\"text-align: right;\">\n",
              "      <th><\/th>\n",
              "      <th>Weight<\/th>\n",
              "      <th>Length1<\/th>\n",
              "      <th>Length2<\/th>\n",
              "      <th>Length3<\/th>\n",
              "      <th>Height<\/th>\n",
              "      <th>Width<\/th>\n",
              "      <th>Species<\/th>\n",
              "    <\/tr>\n",
              "  <\/thead>\n",
              "  <tbody>\n",
              "    <tr>\n",
              "      <th>0<\/th>\n",
              "      <td>0.099373<\/td>\n",
              "      <td>0.195171<\/td>\n",
              "      <td>0.203358<\/td>\n",
              "      <td>0.216783<\/td>\n",
              "      <td>0.445051<\/td>\n",
              "      <td>0.333051<\/td>\n",
              "      <td>Parkki<\/td>\n",
              "    <\/tr>\n",
              "    <tr>\n",
              "      <th>1<\/th>\n",
              "      <td>0.093896<\/td>\n",
              "      <td>0.255533<\/td>\n",
              "      <td>0.253731<\/td>\n",
              "      <td>0.277972<\/td>\n",
              "      <td>0.301063<\/td>\n",
              "      <td>0.364175<\/td>\n",
              "      <td>Roach<\/td>\n",
              "    <\/tr>\n",
              "    <tr>\n",
              "      <th>2<\/th>\n",
              "      <td>0.068947<\/td>\n",
              "      <td>0.187123<\/td>\n",
              "      <td>0.190299<\/td>\n",
              "      <td>0.199301<\/td>\n",
              "      <td>0.260474<\/td>\n",
              "      <td>0.35614<\/td>\n",
              "      <td>Roach<\/td>\n",
              "    <\/tr>\n",
              "    <tr>\n",
              "      <th>3<\/th>\n",
              "      <td>0.464492<\/td>\n",
              "      <td>0.714286<\/td>\n",
              "      <td>0.712687<\/td>\n",
              "      <td>0.706294<\/td>\n",
              "      <td>0.345449<\/td>\n",
              "      <td>0.610115<\/td>\n",
              "      <td>Pike<\/td>\n",
              "    <\/tr>\n",
              "    <tr>\n",
              "      <th>4<\/th>\n",
              "      <td>0.269762<\/td>\n",
              "      <td>0.368209<\/td>\n",
              "      <td>0.376866<\/td>\n",
              "      <td>0.424825<\/td>\n",
              "      <td>0.712565<\/td>\n",
              "      <td>0.535098<\/td>\n",
              "      <td>Bream<\/td>\n",
              "    <\/tr>\n",
              "    <tr>\n",
              "      <th>...<\/th>\n",
              "      <td>...<\/td>\n",
              "      <td>...<\/td>\n",
              "      <td>...<\/td>\n",
              "      <td>...<\/td>\n",
              "      <td>...<\/td>\n",
              "      <td>...<\/td>\n",
              "      <td>...<\/td>\n",
              "    <\/tr>\n",
              "    <tr>\n",
              "      <th>90<\/th>\n",
              "      <td>0.604454<\/td>\n",
              "      <td>0.639839<\/td>\n",
              "      <td>0.63806<\/td>\n",
              "      <td>0.625874<\/td>\n",
              "      <td>0.624566<\/td>\n",
              "      <td>0.92301<\/td>\n",
              "      <td>Perch<\/td>\n",
              "    <\/tr>\n",
              "    <tr>\n",
              "      <th>91<\/th>\n",
              "      <td>0.412767<\/td>\n",
              "      <td>0.444668<\/td>\n",
              "      <td>0.451493<\/td>\n",
              "      <td>0.496503<\/td>\n",
              "      <td>0.827995<\/td>\n",
              "      <td>0.609326<\/td>\n",
              "      <td>Bream<\/td>\n",
              "    <\/tr>\n",
              "    <tr>\n",
              "      <th>92<\/th>\n",
              "      <td>0.604454<\/td>\n",
              "      <td>0.62173<\/td>\n",
              "      <td>0.628731<\/td>\n",
              "      <td>0.615385<\/td>\n",
              "      <td>0.631253<\/td>\n",
              "      <td>1.0<\/td>\n",
              "      <td>Perch<\/td>\n",
              "    <\/tr>\n",
              "    <tr>\n",
              "      <th>93<\/th>\n",
              "      <td>0.367127<\/td>\n",
              "      <td>0.434608<\/td>\n",
              "      <td>0.442164<\/td>\n",
              "      <td>0.486014<\/td>\n",
              "      <td>0.807065<\/td>\n",
              "      <td>0.575975<\/td>\n",
              "      <td>Bream<\/td>\n",
              "    <\/tr>\n",
              "    <tr>\n",
              "      <th>94<\/th>\n",
              "      <td>0.482748<\/td>\n",
              "      <td>0.490946<\/td>\n",
              "      <td>0.496269<\/td>\n",
              "      <td>0.503497<\/td>\n",
              "      <td>0.582334<\/td>\n",
              "      <td>0.778924<\/td>\n",
              "      <td>Whitefish<\/td>\n",
              "    <\/tr>\n",
              "  <\/tbody>\n",
              "<\/table>\n",
              "<p>95 rows × 7 columns<\/p>\n",
              "<\/div>"
            ]
          },
          "metadata":{
            
          },
          "output_type":"display_data"
        }
      ],
      "metadata":{
        
      }
    },
    {
      "cell_type":"code",
      "source":[
        "# Задание №1 - анализ метода опорных векторов в задаче регрессии\n",
        "# https:\/\/scikit-learn.org\/stable\/modules\/generated\/sklearn.svm.SVR.html#sklearn.svm.SVR\n",
        "# kernel : {'linear', 'poly', 'rbf', 'sigmoid', 'precomputed'}, default='rbf'\n",
        "# Только для kernel = 'poly' : degreeint, default=3"
      ],
      "execution_count":72,
      "outputs":[
        
      ],
      "metadata":{
        
      }
    },
    {
      "cell_type":"code",
      "source":[
        "# Выбираем 4 числовых переменных, три их них будут предикторами, одна - зависимой переменной\n",
        "n = 4\n",
        "labels = random.sample(num_columns, n)\n",
        "\n",
        "y_label = labels[0]\n",
        "x_labels = labels[1:]\n",
        "\n",
        "print(x_labels)\n",
        "print(y_label)"
      ],
      "execution_count":73,
      "outputs":[
        {
          "name":"stdout",
          "text":[
            "['Weight', 'Length3', 'Length1']\n",
            "Width\n"
          ],
          "output_type":"stream"
        }
      ],
      "metadata":{
        
      }
    },
    {
      "cell_type":"code",
      "source":[
        "# Отберем необходимые параметры\n",
        "x_train = sc_train[x_labels]\n",
        "x_test = sc_test[x_labels]\n",
        "x_val = sc_val[x_labels]\n",
        "\n",
        "y_train = sc_train[y_label]\n",
        "y_test = sc_test[y_label]\n",
        "y_val = sc_val[y_label]"
      ],
      "execution_count":74,
      "outputs":[
        
      ],
      "metadata":{
        
      }
    },
    {
      "cell_type":"code",
      "source":[
        "x_train"
      ],
      "execution_count":75,
      "outputs":[
        {
          "data":{
            "text\/html":[
              "<div>\n",
              "<style scoped>\n",
              "    .dataframe tbody tr th:only-of-type {\n",
              "        vertical-align: middle;\n",
              "    }\n",
              "\n",
              "    .dataframe tbody tr th {\n",
              "        vertical-align: top;\n",
              "    }\n",
              "\n",
              "    .dataframe thead th {\n",
              "        text-align: right;\n",
              "    }\n",
              "<\/style>\n",
              "<table border=\"1\" class=\"dataframe\">\n",
              "  <thead>\n",
              "    <tr style=\"text-align: right;\">\n",
              "      <th><\/th>\n",
              "      <th>Weight<\/th>\n",
              "      <th>Length3<\/th>\n",
              "      <th>Length1<\/th>\n",
              "    <\/tr>\n",
              "  <\/thead>\n",
              "  <tbody>\n",
              "    <tr>\n",
              "      <th>0<\/th>\n",
              "      <td>0.099373<\/td>\n",
              "      <td>0.216783<\/td>\n",
              "      <td>0.195171<\/td>\n",
              "    <\/tr>\n",
              "    <tr>\n",
              "      <th>1<\/th>\n",
              "      <td>0.093896<\/td>\n",
              "      <td>0.277972<\/td>\n",
              "      <td>0.255533<\/td>\n",
              "    <\/tr>\n",
              "    <tr>\n",
              "      <th>2<\/th>\n",
              "      <td>0.068947<\/td>\n",
              "      <td>0.199301<\/td>\n",
              "      <td>0.187123<\/td>\n",
              "    <\/tr>\n",
              "    <tr>\n",
              "      <th>3<\/th>\n",
              "      <td>0.464492<\/td>\n",
              "      <td>0.706294<\/td>\n",
              "      <td>0.714286<\/td>\n",
              "    <\/tr>\n",
              "    <tr>\n",
              "      <th>4<\/th>\n",
              "      <td>0.269762<\/td>\n",
              "      <td>0.424825<\/td>\n",
              "      <td>0.368209<\/td>\n",
              "    <\/tr>\n",
              "    <tr>\n",
              "      <th>...<\/th>\n",
              "      <td>...<\/td>\n",
              "      <td>...<\/td>\n",
              "      <td>...<\/td>\n",
              "    <\/tr>\n",
              "    <tr>\n",
              "      <th>90<\/th>\n",
              "      <td>0.604454<\/td>\n",
              "      <td>0.625874<\/td>\n",
              "      <td>0.639839<\/td>\n",
              "    <\/tr>\n",
              "    <tr>\n",
              "      <th>91<\/th>\n",
              "      <td>0.412767<\/td>\n",
              "      <td>0.496503<\/td>\n",
              "      <td>0.444668<\/td>\n",
              "    <\/tr>\n",
              "    <tr>\n",
              "      <th>92<\/th>\n",
              "      <td>0.604454<\/td>\n",
              "      <td>0.615385<\/td>\n",
              "      <td>0.62173<\/td>\n",
              "    <\/tr>\n",
              "    <tr>\n",
              "      <th>93<\/th>\n",
              "      <td>0.367127<\/td>\n",
              "      <td>0.486014<\/td>\n",
              "      <td>0.434608<\/td>\n",
              "    <\/tr>\n",
              "    <tr>\n",
              "      <th>94<\/th>\n",
              "      <td>0.482748<\/td>\n",
              "      <td>0.503497<\/td>\n",
              "      <td>0.490946<\/td>\n",
              "    <\/tr>\n",
              "  <\/tbody>\n",
              "<\/table>\n",
              "<p>95 rows × 3 columns<\/p>\n",
              "<\/div>"
            ]
          },
          "metadata":{
            
          },
          "output_type":"display_data"
        }
      ],
      "metadata":{
        
      }
    },
    {
      "cell_type":"code",
      "source":[
        "# Создайте 4 модели с различными ядрами: 'linear', 'poly', 'rbf', 'sigmoid'.\n",
        "# Решите получившуюся задачу регрессии с помощью созданных моделей и сравните их эффективность.\n",
        "# При необходимости применяйте параметр регуляризации C : float, default=1.0\n",
        "# Укажите, какая модель решает задачу лучше других.\n",
        "r_model_1 = SVR(kernel='linear', C=0.8)\n",
        "r_model_2 = SVR(kernel='poly', degree=3, C=1.0)\n",
        "r_model_3 = SVR(kernel='rbf', C=1.0)\n",
        "r_model_4 = SVR(kernel='sigmoid', C=0.6)"
      ],
      "execution_count":76,
      "outputs":[
        
      ],
      "metadata":{
        
      }
    },
    {
      "cell_type":"code",
      "source":[
        "r_models = []\n",
        "r_models.append(r_model_1)\n",
        "r_models.append(r_model_2)\n",
        "r_models.append(r_model_3)\n",
        "r_models.append(r_model_4)"
      ],
      "execution_count":77,
      "outputs":[
        
      ],
      "metadata":{
        
      }
    },
    {
      "cell_type":"code",
      "source":[
        "# Обучаем модели\n",
        "for model in r_models:\n",
        "    model.fit(x_train, y_train)"
      ],
      "execution_count":78,
      "outputs":[
        
      ],
      "metadata":{
        
      }
    },
    {
      "cell_type":"code",
      "source":[
        "# Оценииваем качество работы моделей на валидационной выборке\n",
        "mses = []\n",
        "for model in r_models:\n",
        "    val_pred = model.predict(x_val)\n",
        "    mse = mean_squared_error(y_val, val_pred)\n",
        "    mses.append(mse)\n",
        "    print(mse)"
      ],
      "execution_count":79,
      "outputs":[
        {
          "name":"stdout",
          "text":[
            "0.013230694339742617\n",
            "0.022126309237951468\n",
            "0.003097891680665871\n",
            "13.018636949416791\n"
          ],
          "output_type":"stream"
        }
      ],
      "metadata":{
        
      }
    },
    {
      "cell_type":"code",
      "source":[
        "# Выбираем лучшую модель\n",
        "i_min = mses.index(min(mses))\n",
        "best_r_model = r_models[i_min]\n",
        "best_r_model.get_params()"
      ],
      "execution_count":80,
      "outputs":[
        {
          "data":{
            "text\/plain":[
              "{'C': 1.0,\n",
              " 'cache_size': 200,\n",
              " 'coef0': 0.0,\n",
              " 'degree': 3,\n",
              " 'epsilon': 0.1,\n",
              " 'gamma': 'scale',\n",
              " 'kernel': 'rbf',\n",
              " 'max_iter': -1,\n",
              " 'shrinking': True,\n",
              " 'tol': 0.001,\n",
              " 'verbose': False}"
            ]
          },
          "metadata":{
            
          },
          "output_type":"display_data"
        }
      ],
      "metadata":{
        
      }
    },
    {
      "cell_type":"code",
      "source":[
        "# Вычислим ошибку лучшей модели на тестовой выборке.\n",
        "test_pred = best_r_model.predict(x_test)\n",
        "mse = mean_squared_error(y_test, test_pred)\n",
        "print(mse)"
      ],
      "execution_count":81,
      "outputs":[
        {
          "name":"stdout",
          "text":[
            "0.00457677124972866\n"
          ],
          "output_type":"stream"
        }
      ],
      "metadata":{
        
      }
    },
    {
      "cell_type":"code",
      "source":[
        "# Задание №2 - анализ метода опорных векторов в задаче классификации\n",
        "# https:\/\/scikit-learn.org\/stable\/modules\/generated\/sklearn.svm.SVC.html#sklearn.svm.SVC\n",
        "# kernel : {'linear', 'poly', 'rbf', 'sigmoid', 'precomputed'}, default='rbf'\n",
        "# Только для kernel = 'poly' : degreeint, default=3"
      ],
      "execution_count":82,
      "outputs":[
        
      ],
      "metadata":{
        
      }
    },
    {
      "cell_type":"code",
      "source":[
        "# Выбираем 2 числовых переменных, которые будут параметрами элементов набора данных\n",
        "# Метка класса всегда 'Species'\n",
        "n = 2\n",
        "x_labels = random.sample(num_columns, n)\n",
        "y_label = 'Species'\n",
        "\n",
        "print(x_labels)\n",
        "print(y_label)"
      ],
      "execution_count":83,
      "outputs":[
        {
          "name":"stdout",
          "text":[
            "['Height', 'Weight']\n",
            "Species\n"
          ],
          "output_type":"stream"
        }
      ],
      "metadata":{
        
      }
    },
    {
      "cell_type":"code",
      "source":[
        "# Отберем необходимые параметры\n",
        "x_train = sc_train[x_labels]\n",
        "x_test = sc_test[x_labels]\n",
        "x_val = sc_val[x_labels]\n",
        "\n",
        "y_train = sc_train[y_label]\n",
        "y_test = sc_test[y_label]\n",
        "y_val = sc_val[y_label]"
      ],
      "execution_count":84,
      "outputs":[
        
      ],
      "metadata":{
        
      }
    },
    {
      "cell_type":"code",
      "source":[
        "x_train"
      ],
      "execution_count":85,
      "outputs":[
        {
          "data":{
            "text\/html":[
              "<div>\n",
              "<style scoped>\n",
              "    .dataframe tbody tr th:only-of-type {\n",
              "        vertical-align: middle;\n",
              "    }\n",
              "\n",
              "    .dataframe tbody tr th {\n",
              "        vertical-align: top;\n",
              "    }\n",
              "\n",
              "    .dataframe thead th {\n",
              "        text-align: right;\n",
              "    }\n",
              "<\/style>\n",
              "<table border=\"1\" class=\"dataframe\">\n",
              "  <thead>\n",
              "    <tr style=\"text-align: right;\">\n",
              "      <th><\/th>\n",
              "      <th>Height<\/th>\n",
              "      <th>Weight<\/th>\n",
              "    <\/tr>\n",
              "  <\/thead>\n",
              "  <tbody>\n",
              "    <tr>\n",
              "      <th>0<\/th>\n",
              "      <td>0.445051<\/td>\n",
              "      <td>0.099373<\/td>\n",
              "    <\/tr>\n",
              "    <tr>\n",
              "      <th>1<\/th>\n",
              "      <td>0.301063<\/td>\n",
              "      <td>0.093896<\/td>\n",
              "    <\/tr>\n",
              "    <tr>\n",
              "      <th>2<\/th>\n",
              "      <td>0.260474<\/td>\n",
              "      <td>0.068947<\/td>\n",
              "    <\/tr>\n",
              "    <tr>\n",
              "      <th>3<\/th>\n",
              "      <td>0.345449<\/td>\n",
              "      <td>0.464492<\/td>\n",
              "    <\/tr>\n",
              "    <tr>\n",
              "      <th>4<\/th>\n",
              "      <td>0.712565<\/td>\n",
              "      <td>0.269762<\/td>\n",
              "    <\/tr>\n",
              "    <tr>\n",
              "      <th>...<\/th>\n",
              "      <td>...<\/td>\n",
              "      <td>...<\/td>\n",
              "    <\/tr>\n",
              "    <tr>\n",
              "      <th>90<\/th>\n",
              "      <td>0.624566<\/td>\n",
              "      <td>0.604454<\/td>\n",
              "    <\/tr>\n",
              "    <tr>\n",
              "      <th>91<\/th>\n",
              "      <td>0.827995<\/td>\n",
              "      <td>0.412767<\/td>\n",
              "    <\/tr>\n",
              "    <tr>\n",
              "      <th>92<\/th>\n",
              "      <td>0.631253<\/td>\n",
              "      <td>0.604454<\/td>\n",
              "    <\/tr>\n",
              "    <tr>\n",
              "      <th>93<\/th>\n",
              "      <td>0.807065<\/td>\n",
              "      <td>0.367127<\/td>\n",
              "    <\/tr>\n",
              "    <tr>\n",
              "      <th>94<\/th>\n",
              "      <td>0.582334<\/td>\n",
              "      <td>0.482748<\/td>\n",
              "    <\/tr>\n",
              "  <\/tbody>\n",
              "<\/table>\n",
              "<p>95 rows × 2 columns<\/p>\n",
              "<\/div>"
            ]
          },
          "metadata":{
            
          },
          "output_type":"display_data"
        }
      ],
      "metadata":{
        
      }
    },
    {
      "cell_type":"code",
      "source":[
        "# Создайте 4 модели с различными ядрами: 'linear', 'poly', 'rbf', 'sigmoid'.\n",
        "# Решите получившуюся задачу регрессии с помощью созданных моделей и сравните их эффективность.\n",
        "# При необходимости применяйте параметр регуляризации C : float, default=1.0\n",
        "# Укажите, какая модель решает задачу лучше других.\n",
        "c_model = SVC()\n",
        "c_model_1 = SVC(kernel='linear', C=0.8)\n",
        "c_model_2 = SVC(kernel='poly', degree=3, C=1.0)\n",
        "c_model_3 = SVC(kernel='rbf', C=1.0)\n",
        "c_model_4 = SVC(kernel='sigmoid', C=0.6)"
      ],
      "execution_count":86,
      "outputs":[
        
      ],
      "metadata":{
        
      }
    },
    {
      "cell_type":"code",
      "source":[
        "c_models = []\n",
        "c_models.append(c_model_1)\n",
        "c_models.append(c_model_2)\n",
        "c_models.append(c_model_3)\n",
        "c_models.append(c_model_4)"
      ],
      "execution_count":87,
      "outputs":[
        
      ],
      "metadata":{
        
      }
    },
    {
      "cell_type":"code",
      "source":[
        "# Обучаем модели\n",
        "for model in c_models:\n",
        "    model.fit(x_train, y_train)"
      ],
      "execution_count":88,
      "outputs":[
        
      ],
      "metadata":{
        
      }
    },
    {
      "cell_type":"code",
      "source":[
        "# Оценииваем качество работы моделей на валидационной выборке.\n",
        "f1s = []\n",
        "for model in c_models:\n",
        "    val_pred = model.predict(x_val)\n",
        "    f1 = f1_score(y_val, val_pred, average='weighted')\n",
        "    f1s.append(f1)\n",
        "    print(f1)"
      ],
      "execution_count":89,
      "outputs":[
        {
          "name":"stdout",
          "text":[
            "0.46223958333333337\n",
            "0.6351190476190477\n",
            "0.7216589861751151\n",
            "0.1955357142857143\n"
          ],
          "output_type":"stream"
        }
      ],
      "metadata":{
        
      }
    },
    {
      "cell_type":"code",
      "source":[
        "# Выбираем лучшую модель\n",
        "i_min = f1s.index(min(f1s))\n",
        "best_c_model = c_models[i_min]\n",
        "best_c_model.get_params()"
      ],
      "execution_count":90,
      "outputs":[
        {
          "data":{
            "text\/plain":[
              "{'C': 0.6,\n",
              " 'break_ties': False,\n",
              " 'cache_size': 200,\n",
              " 'class_weight': None,\n",
              " 'coef0': 0.0,\n",
              " 'decision_function_shape': 'ovr',\n",
              " 'degree': 3,\n",
              " 'gamma': 'scale',\n",
              " 'kernel': 'sigmoid',\n",
              " 'max_iter': -1,\n",
              " 'probability': False,\n",
              " 'random_state': None,\n",
              " 'shrinking': True,\n",
              " 'tol': 0.001,\n",
              " 'verbose': False}"
            ]
          },
          "metadata":{
            
          },
          "output_type":"display_data"
        }
      ],
      "metadata":{
        
      }
    },
    {
      "cell_type":"code",
      "source":[
        "# Вычислим ошибку лучшей модели на тестовой выборке.\n",
        "test_pred = best_c_model.predict(x_test)\n",
        "f1 = f1_score(y_test, test_pred, average='weighted')\n",
        "print(f1)"
      ],
      "execution_count":91,
      "outputs":[
        {
          "name":"stdout",
          "text":[
            "0.2121143375680581\n"
          ],
          "output_type":"stream"
        }
      ],
      "metadata":{
        
      }
    }
  ],
  "metadata":{
    
  },
  "nbformat":4,
  "nbformat_minor":0
}