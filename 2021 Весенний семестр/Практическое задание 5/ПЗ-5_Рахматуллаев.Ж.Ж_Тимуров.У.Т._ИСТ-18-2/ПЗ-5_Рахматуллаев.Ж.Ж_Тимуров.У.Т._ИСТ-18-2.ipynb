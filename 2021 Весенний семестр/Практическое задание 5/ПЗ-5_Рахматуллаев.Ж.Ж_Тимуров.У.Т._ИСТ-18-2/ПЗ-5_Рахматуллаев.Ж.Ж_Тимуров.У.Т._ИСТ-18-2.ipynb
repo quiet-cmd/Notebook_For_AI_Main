{
  "cells":[
    {
      "cell_type":"code",
      "source":[
        "# Зависимости\n",
        "import pandas as pd\n",
        "import numpy as np\n",
        "import matplotlib.pyplot as plt\n",
        "import random\n",
        "import os\n",
        "from sklearn.model_selection import train_test_split\n",
        "from sklearn.preprocessing import MinMaxScaler, OneHotEncoder\n",
        "from sklearn.compose import ColumnTransformer\n",
        "\n",
        "from sklearn.neural_network import MLPRegressor, MLPClassifier\n",
        "\n",
        "from sklearn.metrics import mean_squared_error, f1_score\n",
        "import tensorflow as tf\n",
        "from tensorflow.keras.models import Sequential \n",
        "from tensorflow.keras.layers import Dense, Dropout"
      ],
      "execution_count":1,
      "outputs":[
        
      ],
      "metadata":{
        
      }
    },
    {
      "cell_type":"code",
      "source":[
        "from tensorflow import compat\n",
        "# Инициализируем все известные генераторы случаынйх чисел \/ Setting all known random seeds\n",
        "my_code = \"Рахматуллаев и Тимуров\"\n",
        "seed_limit = 2 ** 32\n",
        "my_seed = int.from_bytes(my_code.encode(), \"little\") % seed_limit\n",
        "\n",
        "os.environ['PYTHONHASHSEED']=str(my_seed)\n",
        "\n",
        "random.seed(my_seed)\n",
        "\n",
        "np.random.seed(my_seed)\n",
        "\n",
        "compat.v1.set_random_seed(my_seed)\n",
        "\n",
        "session_conf = compat.v1.ConfigProto(intra_op_parallelism_threads=1, inter_op_parallelism_threads=1)\n",
        "sess = compat.v1.Session(graph=compat.v1.get_default_graph(), config=session_conf)\n",
        "compat.v1.keras.backend.set_session(sess)"
      ],
      "execution_count":2,
      "outputs":[
        
      ],
      "metadata":{
        
      }
    },
    {
      "cell_type":"code",
      "source":[
        "# Читаем данные из файла\n",
        "example_data = pd.read_csv(\"datasets\/Fish.csv\")"
      ],
      "execution_count":3,
      "outputs":[
        
      ],
      "metadata":{
        
      }
    },
    {
      "cell_type":"code",
      "source":[
        "example_data.head()"
      ],
      "execution_count":4,
      "outputs":[
        {
          "data":{
            "text\/html":[
              "<div>\n",
              "<style scoped>\n",
              "    .dataframe tbody tr th:only-of-type {\n",
              "        vertical-align: middle;\n",
              "    }\n",
              "\n",
              "    .dataframe tbody tr th {\n",
              "        vertical-align: top;\n",
              "    }\n",
              "\n",
              "    .dataframe thead th {\n",
              "        text-align: right;\n",
              "    }\n",
              "<\/style>\n",
              "<table border=\"1\" class=\"dataframe\">\n",
              "  <thead>\n",
              "    <tr style=\"text-align: right;\">\n",
              "      <th><\/th>\n",
              "      <th>Species<\/th>\n",
              "      <th>Weight<\/th>\n",
              "      <th>Length1<\/th>\n",
              "      <th>Length2<\/th>\n",
              "      <th>Length3<\/th>\n",
              "      <th>Height<\/th>\n",
              "      <th>Width<\/th>\n",
              "    <\/tr>\n",
              "  <\/thead>\n",
              "  <tbody>\n",
              "    <tr>\n",
              "      <th>0<\/th>\n",
              "      <td>Bream<\/td>\n",
              "      <td>242.0<\/td>\n",
              "      <td>23.2<\/td>\n",
              "      <td>25.4<\/td>\n",
              "      <td>30.0<\/td>\n",
              "      <td>11.5200<\/td>\n",
              "      <td>4.0200<\/td>\n",
              "    <\/tr>\n",
              "    <tr>\n",
              "      <th>1<\/th>\n",
              "      <td>Bream<\/td>\n",
              "      <td>290.0<\/td>\n",
              "      <td>24.0<\/td>\n",
              "      <td>26.3<\/td>\n",
              "      <td>31.2<\/td>\n",
              "      <td>12.4800<\/td>\n",
              "      <td>4.3056<\/td>\n",
              "    <\/tr>\n",
              "    <tr>\n",
              "      <th>2<\/th>\n",
              "      <td>Bream<\/td>\n",
              "      <td>340.0<\/td>\n",
              "      <td>23.9<\/td>\n",
              "      <td>26.5<\/td>\n",
              "      <td>31.1<\/td>\n",
              "      <td>12.3778<\/td>\n",
              "      <td>4.6961<\/td>\n",
              "    <\/tr>\n",
              "    <tr>\n",
              "      <th>3<\/th>\n",
              "      <td>Bream<\/td>\n",
              "      <td>363.0<\/td>\n",
              "      <td>26.3<\/td>\n",
              "      <td>29.0<\/td>\n",
              "      <td>33.5<\/td>\n",
              "      <td>12.7300<\/td>\n",
              "      <td>4.4555<\/td>\n",
              "    <\/tr>\n",
              "    <tr>\n",
              "      <th>4<\/th>\n",
              "      <td>Bream<\/td>\n",
              "      <td>430.0<\/td>\n",
              "      <td>26.5<\/td>\n",
              "      <td>29.0<\/td>\n",
              "      <td>34.0<\/td>\n",
              "      <td>12.4440<\/td>\n",
              "      <td>5.1340<\/td>\n",
              "    <\/tr>\n",
              "  <\/tbody>\n",
              "<\/table>\n",
              "<\/div>"
            ]
          },
          "metadata":{
            
          },
          "output_type":"display_data"
        }
      ],
      "metadata":{
        
      }
    },
    {
      "cell_type":"code",
      "source":[
        "# Определим размер валидационной и тестовой выборок\n",
        "val_test_size = round(0.2*len(example_data))\n",
        "print(val_test_size)"
      ],
      "execution_count":5,
      "outputs":[
        {
          "name":"stdout",
          "text":[
            "32\n"
          ],
          "output_type":"stream"
        }
      ],
      "metadata":{
        
      }
    },
    {
      "cell_type":"code",
      "source":[
        "# Создадим обучающую, валидационную и тестовую выборки\n",
        "random_state = my_seed\n",
        "train_val, test = train_test_split(example_data, test_size=val_test_size, random_state=random_state)\n",
        "train, val = train_test_split(train_val, test_size=val_test_size, random_state=random_state)\n",
        "print(len(train), len(val), len(test))"
      ],
      "execution_count":6,
      "outputs":[
        {
          "name":"stdout",
          "text":[
            "95 32 32\n"
          ],
          "output_type":"stream"
        }
      ],
      "metadata":{
        
      }
    },
    {
      "cell_type":"code",
      "source":[
        "# Значения в числовых столбцах преобразуем к отрезку [0,1].\n",
        "# Для настройки скалировщика используем только обучающую выборку.\n",
        "num_columns = ['Weight', 'Length1', 'Length2', 'Length3', 'Height', 'Width']\n",
        "ord_columns = ['Species']\n",
        "\n",
        "ct = ColumnTransformer(transformers=[\n",
        "    ('numerical', MinMaxScaler(), num_columns), \n",
        "    ('ordinal', OneHotEncoder(), ord_columns)])\n",
        "\n",
        "ct.fit(train)"
      ],
      "execution_count":7,
      "outputs":[
        {
          "data":{
            "text\/plain":[
              "ColumnTransformer(transformers=[('numerical', MinMaxScaler(),\n",
              "                                 ['Weight', 'Length1', 'Length2', 'Length3',\n",
              "                                  'Height', 'Width']),\n",
              "                                ('ordinal', OneHotEncoder(), ['Species'])])"
            ]
          },
          "metadata":{
            
          },
          "output_type":"display_data"
        }
      ],
      "metadata":{
        
      }
    },
    {
      "cell_type":"code",
      "source":[
        "# Преобразуем значения, тип данных приводим к DataFrame\n",
        "sc_train = pd.DataFrame(ct.transform(train))\n",
        "sc_test = pd.DataFrame(ct.transform(test))\n",
        "sc_val = pd.DataFrame(ct.transform(val))"
      ],
      "execution_count":8,
      "outputs":[
        
      ],
      "metadata":{
        
      }
    },
    {
      "cell_type":"code",
      "source":[
        "sc_train"
      ],
      "execution_count":9,
      "outputs":[
        {
          "data":{
            "text\/html":[
              "<div>\n",
              "<style scoped>\n",
              "    .dataframe tbody tr th:only-of-type {\n",
              "        vertical-align: middle;\n",
              "    }\n",
              "\n",
              "    .dataframe tbody tr th {\n",
              "        vertical-align: top;\n",
              "    }\n",
              "\n",
              "    .dataframe thead th {\n",
              "        text-align: right;\n",
              "    }\n",
              "<\/style>\n",
              "<table border=\"1\" class=\"dataframe\">\n",
              "  <thead>\n",
              "    <tr style=\"text-align: right;\">\n",
              "      <th><\/th>\n",
              "      <th>0<\/th>\n",
              "      <th>1<\/th>\n",
              "      <th>2<\/th>\n",
              "      <th>3<\/th>\n",
              "      <th>4<\/th>\n",
              "      <th>5<\/th>\n",
              "      <th>6<\/th>\n",
              "      <th>7<\/th>\n",
              "      <th>8<\/th>\n",
              "      <th>9<\/th>\n",
              "      <th>10<\/th>\n",
              "      <th>11<\/th>\n",
              "      <th>12<\/th>\n",
              "    <\/tr>\n",
              "  <\/thead>\n",
              "  <tbody>\n",
              "    <tr>\n",
              "      <th>0<\/th>\n",
              "      <td>0.099373<\/td>\n",
              "      <td>0.195171<\/td>\n",
              "      <td>0.203358<\/td>\n",
              "      <td>0.216783<\/td>\n",
              "      <td>0.445051<\/td>\n",
              "      <td>0.333051<\/td>\n",
              "      <td>0.0<\/td>\n",
              "      <td>1.0<\/td>\n",
              "      <td>0.0<\/td>\n",
              "      <td>0.0<\/td>\n",
              "      <td>0.0<\/td>\n",
              "      <td>0.0<\/td>\n",
              "      <td>0.0<\/td>\n",
              "    <\/tr>\n",
              "    <tr>\n",
              "      <th>1<\/th>\n",
              "      <td>0.093896<\/td>\n",
              "      <td>0.255533<\/td>\n",
              "      <td>0.253731<\/td>\n",
              "      <td>0.277972<\/td>\n",
              "      <td>0.301063<\/td>\n",
              "      <td>0.364175<\/td>\n",
              "      <td>0.0<\/td>\n",
              "      <td>0.0<\/td>\n",
              "      <td>0.0<\/td>\n",
              "      <td>0.0<\/td>\n",
              "      <td>1.0<\/td>\n",
              "      <td>0.0<\/td>\n",
              "      <td>0.0<\/td>\n",
              "    <\/tr>\n",
              "    <tr>\n",
              "      <th>2<\/th>\n",
              "      <td>0.068947<\/td>\n",
              "      <td>0.187123<\/td>\n",
              "      <td>0.190299<\/td>\n",
              "      <td>0.199301<\/td>\n",
              "      <td>0.260474<\/td>\n",
              "      <td>0.356140<\/td>\n",
              "      <td>0.0<\/td>\n",
              "      <td>0.0<\/td>\n",
              "      <td>0.0<\/td>\n",
              "      <td>0.0<\/td>\n",
              "      <td>1.0<\/td>\n",
              "      <td>0.0<\/td>\n",
              "      <td>0.0<\/td>\n",
              "    <\/tr>\n",
              "    <tr>\n",
              "      <th>3<\/th>\n",
              "      <td>0.464492<\/td>\n",
              "      <td>0.714286<\/td>\n",
              "      <td>0.712687<\/td>\n",
              "      <td>0.706294<\/td>\n",
              "      <td>0.345449<\/td>\n",
              "      <td>0.610115<\/td>\n",
              "      <td>0.0<\/td>\n",
              "      <td>0.0<\/td>\n",
              "      <td>0.0<\/td>\n",
              "      <td>1.0<\/td>\n",
              "      <td>0.0<\/td>\n",
              "      <td>0.0<\/td>\n",
              "      <td>0.0<\/td>\n",
              "    <\/tr>\n",
              "    <tr>\n",
              "      <th>4<\/th>\n",
              "      <td>0.269762<\/td>\n",
              "      <td>0.368209<\/td>\n",
              "      <td>0.376866<\/td>\n",
              "      <td>0.424825<\/td>\n",
              "      <td>0.712565<\/td>\n",
              "      <td>0.535098<\/td>\n",
              "      <td>1.0<\/td>\n",
              "      <td>0.0<\/td>\n",
              "      <td>0.0<\/td>\n",
              "      <td>0.0<\/td>\n",
              "      <td>0.0<\/td>\n",
              "      <td>0.0<\/td>\n",
              "      <td>0.0<\/td>\n",
              "    <\/tr>\n",
              "    <tr>\n",
              "      <th>...<\/th>\n",
              "      <td>...<\/td>\n",
              "      <td>...<\/td>\n",
              "      <td>...<\/td>\n",
              "      <td>...<\/td>\n",
              "      <td>...<\/td>\n",
              "      <td>...<\/td>\n",
              "      <td>...<\/td>\n",
              "      <td>...<\/td>\n",
              "      <td>...<\/td>\n",
              "      <td>...<\/td>\n",
              "      <td>...<\/td>\n",
              "      <td>...<\/td>\n",
              "      <td>...<\/td>\n",
              "    <\/tr>\n",
              "    <tr>\n",
              "      <th>90<\/th>\n",
              "      <td>0.604454<\/td>\n",
              "      <td>0.639839<\/td>\n",
              "      <td>0.638060<\/td>\n",
              "      <td>0.625874<\/td>\n",
              "      <td>0.624566<\/td>\n",
              "      <td>0.923010<\/td>\n",
              "      <td>0.0<\/td>\n",
              "      <td>0.0<\/td>\n",
              "      <td>1.0<\/td>\n",
              "      <td>0.0<\/td>\n",
              "      <td>0.0<\/td>\n",
              "      <td>0.0<\/td>\n",
              "      <td>0.0<\/td>\n",
              "    <\/tr>\n",
              "    <tr>\n",
              "      <th>91<\/th>\n",
              "      <td>0.412767<\/td>\n",
              "      <td>0.444668<\/td>\n",
              "      <td>0.451493<\/td>\n",
              "      <td>0.496503<\/td>\n",
              "      <td>0.827995<\/td>\n",
              "      <td>0.609326<\/td>\n",
              "      <td>1.0<\/td>\n",
              "      <td>0.0<\/td>\n",
              "      <td>0.0<\/td>\n",
              "      <td>0.0<\/td>\n",
              "      <td>0.0<\/td>\n",
              "      <td>0.0<\/td>\n",
              "      <td>0.0<\/td>\n",
              "    <\/tr>\n",
              "    <tr>\n",
              "      <th>92<\/th>\n",
              "      <td>0.604454<\/td>\n",
              "      <td>0.621730<\/td>\n",
              "      <td>0.628731<\/td>\n",
              "      <td>0.615385<\/td>\n",
              "      <td>0.631253<\/td>\n",
              "      <td>1.000000<\/td>\n",
              "      <td>0.0<\/td>\n",
              "      <td>0.0<\/td>\n",
              "      <td>1.0<\/td>\n",
              "      <td>0.0<\/td>\n",
              "      <td>0.0<\/td>\n",
              "      <td>0.0<\/td>\n",
              "      <td>0.0<\/td>\n",
              "    <\/tr>\n",
              "    <tr>\n",
              "      <th>93<\/th>\n",
              "      <td>0.367127<\/td>\n",
              "      <td>0.434608<\/td>\n",
              "      <td>0.442164<\/td>\n",
              "      <td>0.486014<\/td>\n",
              "      <td>0.807065<\/td>\n",
              "      <td>0.575975<\/td>\n",
              "      <td>1.0<\/td>\n",
              "      <td>0.0<\/td>\n",
              "      <td>0.0<\/td>\n",
              "      <td>0.0<\/td>\n",
              "      <td>0.0<\/td>\n",
              "      <td>0.0<\/td>\n",
              "      <td>0.0<\/td>\n",
              "    <\/tr>\n",
              "    <tr>\n",
              "      <th>94<\/th>\n",
              "      <td>0.482748<\/td>\n",
              "      <td>0.490946<\/td>\n",
              "      <td>0.496269<\/td>\n",
              "      <td>0.503497<\/td>\n",
              "      <td>0.582334<\/td>\n",
              "      <td>0.778924<\/td>\n",
              "      <td>0.0<\/td>\n",
              "      <td>0.0<\/td>\n",
              "      <td>0.0<\/td>\n",
              "      <td>0.0<\/td>\n",
              "      <td>0.0<\/td>\n",
              "      <td>0.0<\/td>\n",
              "      <td>1.0<\/td>\n",
              "    <\/tr>\n",
              "  <\/tbody>\n",
              "<\/table>\n",
              "<p>95 rows × 13 columns<\/p>\n",
              "<\/div>"
            ]
          },
          "metadata":{
            
          },
          "output_type":"display_data"
        }
      ],
      "metadata":{
        
      }
    },
    {
      "cell_type":"code",
      "source":[
        "# Устанавливаем названия столбцов\n",
        "column_names = num_columns + list(range(7))\n",
        "sc_train.columns = column_names\n",
        "sc_test.columns = column_names\n",
        "sc_val.columns = column_names"
      ],
      "execution_count":10,
      "outputs":[
        
      ],
      "metadata":{
        
      }
    },
    {
      "cell_type":"code",
      "source":[
        "# В качестве входных параметров используем первые 5 числовых параметров,\n",
        "# в качестве выходного - шестой числовой параметр.\n",
        "x_labels = num_columns[:-1]\n",
        "y_labels = num_columns[-1]\n",
        "print(x_labels)\n",
        "print(y_labels)"
      ],
      "execution_count":11,
      "outputs":[
        {
          "name":"stdout",
          "text":[
            "['Weight', 'Length1', 'Length2', 'Length3', 'Height']\n",
            "Width\n"
          ],
          "output_type":"stream"
        }
      ],
      "metadata":{
        
      }
    },
    {
      "cell_type":"code",
      "source":[
        "# Отберем необходимые параметры\n",
        "x_train = sc_train[x_labels]\n",
        "x_test = sc_test[x_labels]\n",
        "x_val = sc_val[x_labels]\n",
        "\n",
        "y_train = sc_train[y_labels]\n",
        "y_test = sc_test[y_labels]\n",
        "y_val = sc_val[y_labels]"
      ],
      "execution_count":12,
      "outputs":[
        
      ],
      "metadata":{
        
      }
    },
    {
      "cell_type":"code",
      "source":[
        "# Создадим нейроннную сеть для решения задачи регрессии на базе библиотеки sklearn\n",
        "reg = MLPRegressor(alpha=0.0, batch_size=16, epsilon=1e-07, max_iter=50)\n",
        "reg.get_params()"
      ],
      "execution_count":13,
      "outputs":[
        {
          "data":{
            "text\/plain":[
              "{'activation': 'relu',\n",
              " 'alpha': 0.0,\n",
              " 'batch_size': 16,\n",
              " 'beta_1': 0.9,\n",
              " 'beta_2': 0.999,\n",
              " 'early_stopping': False,\n",
              " 'epsilon': 1e-07,\n",
              " 'hidden_layer_sizes': (100,),\n",
              " 'learning_rate': 'constant',\n",
              " 'learning_rate_init': 0.001,\n",
              " 'max_fun': 15000,\n",
              " 'max_iter': 50,\n",
              " 'momentum': 0.9,\n",
              " 'n_iter_no_change': 10,\n",
              " 'nesterovs_momentum': True,\n",
              " 'power_t': 0.5,\n",
              " 'random_state': None,\n",
              " 'shuffle': True,\n",
              " 'solver': 'adam',\n",
              " 'tol': 0.0001,\n",
              " 'validation_fraction': 0.1,\n",
              " 'verbose': False,\n",
              " 'warm_start': False}"
            ]
          },
          "metadata":{
            
          },
          "output_type":"display_data"
        }
      ],
      "metadata":{
        
      }
    },
    {
      "cell_type":"code",
      "source":[
        "# Обучим нейронную сеть\n",
        "reg.fit(x_train, y_train)"
      ],
      "execution_count":14,
      "outputs":[
        {
          "data":{
            "text\/plain":[
              "MLPRegressor(alpha=0.0, batch_size=16, epsilon=1e-07, max_iter=50)"
            ]
          },
          "metadata":{
            
          },
          "output_type":"display_data"
        }
      ],
      "metadata":{
        
      }
    },
    {
      "cell_type":"code",
      "source":[
        "# Проверим работу обученной нейронной сети на валидационной выборке\n",
        "pred_val = reg.predict(x_val)\n",
        "mse1 = mean_squared_error(y_val, pred_val)\n",
        "print(mse1)"
      ],
      "execution_count":15,
      "outputs":[
        {
          "name":"stdout",
          "text":[
            "0.0043707749081854305\n"
          ],
          "output_type":"stream"
        }
      ],
      "metadata":{
        
      }
    },
    {
      "cell_type":"code",
      "source":[
        "# Создадим нейронную сеть на базе библиотеки keras\n",
        "model = Sequential()\n",
        "\n",
        "model.add(Dense(100, input_dim=5, activation='relu', use_bias=False))\n",
        "\n",
        "model.add(Dense(1, activation='linear', use_bias=False))\n",
        "\n",
        "model.compile(loss='mean_squared_error', optimizer='adam', metrics=['mean_squared_error'])\n",
        "\n",
        "model.summary()"
      ],
      "execution_count":16,
      "outputs":[
        {
          "name":"stdout",
          "text":[
            "Model: \"sequential\"\n",
            "_________________________________________________________________\n",
            "Layer (type)                 Output Shape              Param #   \n",
            "=================================================================\n",
            "dense (Dense)                (None, 100)               500       \n",
            "_________________________________________________________________\n",
            "dense_1 (Dense)              (None, 1)                 100       \n",
            "=================================================================\n",
            "Total params: 600\n",
            "Trainable params: 600\n",
            "Non-trainable params: 0\n",
            "_________________________________________________________________\n"
          ],
          "output_type":"stream"
        }
      ],
      "metadata":{
        
      }
    },
    {
      "cell_type":"code",
      "source":[
        "# Обучим нейронную сеть\n",
        "history = model.fit(x_train, y_train, validation_data = (x_val, y_val), epochs=50, batch_size=16, verbose=0)"
      ],
      "execution_count":17,
      "outputs":[
        
      ],
      "metadata":{
        
      }
    },
    {
      "cell_type":"code",
      "source":[
        "# Проверим работу обученной нейронной сети на валидационной выборке\n",
        "pred_val2 = model.predict(x_val)\n",
        "mse2 = mean_squared_error(y_val, pred_val2)\n",
        "print(mse2)"
      ],
      "execution_count":18,
      "outputs":[
        {
          "name":"stdout",
          "text":[
            "0.004206839977923035\n"
          ],
          "output_type":"stream"
        }
      ],
      "metadata":{
        
      }
    },
    {
      "cell_type":"code",
      "source":[
        "# Создаем нейронную сеть со слоем дропаута\n",
        "drop = Sequential()\n",
        "\n",
        "drop.add(Dense(100, input_dim=5, activation='relu', use_bias=False))\n",
        "\n",
        "drop.add(Dropout(rate=0.5))\n",
        "\n",
        "drop.add(Dense(1, activation='linear', use_bias=False))\n",
        "\n",
        "drop.compile(loss='mean_squared_error', optimizer='adam', metrics=['mean_squared_error'])\n",
        "\n",
        "drop.summary()"
      ],
      "execution_count":19,
      "outputs":[
        {
          "name":"stdout",
          "text":[
            "Model: \"sequential_1\"\n",
            "_________________________________________________________________\n",
            "Layer (type)                 Output Shape              Param #   \n",
            "=================================================================\n",
            "dense_2 (Dense)              (None, 100)               500       \n",
            "_________________________________________________________________\n",
            "dropout (Dropout)            (None, 100)               0         \n",
            "_________________________________________________________________\n",
            "dense_3 (Dense)              (None, 1)                 100       \n",
            "=================================================================\n",
            "Total params: 600\n",
            "Trainable params: 600\n",
            "Non-trainable params: 0\n",
            "_________________________________________________________________\n"
          ],
          "output_type":"stream"
        }
      ],
      "metadata":{
        
      }
    },
    {
      "cell_type":"code",
      "source":[
        "# Обучим нейронную сеть\n",
        "history = drop.fit(x_train, y_train, validation_data = (x_val, y_val), epochs=50, batch_size=16, verbose=0)"
      ],
      "execution_count":20,
      "outputs":[
        
      ],
      "metadata":{
        
      }
    },
    {
      "cell_type":"code",
      "source":[
        "# Проверим работу обученной нейронной сети на валидационной выборке\n",
        "pred_val3 = drop.predict(x_val)\n",
        "mse3 = mean_squared_error(y_val, pred_val3)\n",
        "print(mse3)"
      ],
      "execution_count":21,
      "outputs":[
        {
          "name":"stdout",
          "text":[
            "0.006987787754286129\n"
          ],
          "output_type":"stream"
        }
      ],
      "metadata":{
        
      }
    },
    {
      "cell_type":"code",
      "source":[
        "print(mse1, mse2, mse3)"
      ],
      "execution_count":22,
      "outputs":[
        {
          "name":"stdout",
          "text":[
            "0.0043707749081854305 0.004206839977923035 0.006987787754286129\n"
          ],
          "output_type":"stream"
        }
      ],
      "metadata":{
        
      }
    },
    {
      "cell_type":"code",
      "source":[
        "# Проверяем на тестовой выборке\n",
        "pred_test = model.predict(x_test)\n",
        "mse = mean_squared_error(y_test, pred_test)\n",
        "print(mse)"
      ],
      "execution_count":23,
      "outputs":[
        {
          "name":"stdout",
          "text":[
            "0.008955289066183161\n"
          ],
          "output_type":"stream"
        }
      ],
      "metadata":{
        
      }
    },
    {
      "cell_type":"code",
      "source":[
        "# Задание №1 - решение задачи классификации.\n",
        "# В качестве входных параметров используем все числовые параметры,\n",
        "# в качестве выходного - единственный категориальный параметр."
      ],
      "execution_count":24,
      "outputs":[
        
      ],
      "metadata":{
        
      }
    },
    {
      "cell_type":"code",
      "source":[
        "x_labels = num_columns\n",
        "y_labels = list(range(7))\n",
        "print(x_labels)\n",
        "print(y_labels)"
      ],
      "execution_count":25,
      "outputs":[
        {
          "name":"stdout",
          "text":[
            "['Weight', 'Length1', 'Length2', 'Length3', 'Height', 'Width']\n",
            "[0, 1, 2, 3, 4, 5, 6]\n"
          ],
          "output_type":"stream"
        }
      ],
      "metadata":{
        
      }
    },
    {
      "cell_type":"code",
      "source":[
        "# Отберем необходимые параметры\n",
        "x_train = sc_train[x_labels]\n",
        "x_test = sc_test[x_labels]\n",
        "x_val = sc_val[x_labels]\n",
        "\n",
        "y_train = sc_train[y_labels]\n",
        "y_test = sc_test[y_labels]\n",
        "y_val = sc_val[y_labels]"
      ],
      "execution_count":26,
      "outputs":[
        
      ],
      "metadata":{
        
      }
    },
    {
      "cell_type":"code",
      "source":[
        "# Создайте нейронную сеть для решения задачи классификации двумя способами: с помощью sklearn и keras.\n",
        "# Сравните их эффективность.\n",
        "# Для keras используйте loss и metrics = 'categorical_crossentropy'."
      ],
      "execution_count":27,
      "outputs":[
        
      ],
      "metadata":{
        
      }
    },
    {
      "cell_type":"code",
      "source":[
        "# sklearn\n",
        "clas = MLPClassifier(alpha=0.0, batch_size=16, epsilon=1e-07, max_iter=50)\n",
        "clas.get_params()\n",
        "clas.fit(x_train, y_train)\n",
        "pred_val = clas.predict(x_val)\n",
        "mse1 = mean_squared_error(y_val, pred_val)\n",
        "print(mse1)"
      ],
      "execution_count":28,
      "outputs":[
        {
          "name":"stdout",
          "text":[
            "0.14285714285714285\n"
          ],
          "output_type":"stream"
        },
        {
          "name":"stderr",
          "text":[
            "\/opt\/python\/envs\/default\/lib\/python3.8\/site-packages\/sklearn\/neural_network\/_multilayer_perceptron.py:614: ConvergenceWarning: Stochastic Optimizer: Maximum iterations (50) reached and the optimization hasn't converged yet.\n",
            "  warnings.warn(\n"
          ],
          "output_type":"stream"
        }
      ],
      "metadata":{
        
      }
    },
    {
      "cell_type":"code",
      "source":[
        "# keras\n",
        "model = Sequential()\n",
        "\n",
        "model.add(Dense(100, input_dim=6, activation='relu', use_bias=False))\n",
        "\n",
        "model.add(Dense(7, activation='softmax', use_bias=False))\n",
        "\n",
        "model.compile(loss='categorical_crossentropy', optimizer='adam', metrics=['categorical_crossentropy'])\n",
        "\n",
        "model.summary()"
      ],
      "execution_count":29,
      "outputs":[
        {
          "name":"stdout",
          "text":[
            "Model: \"sequential_2\"\n",
            "_________________________________________________________________\n",
            "Layer (type)                 Output Shape              Param #   \n",
            "=================================================================\n",
            "dense_4 (Dense)              (None, 100)               600       \n",
            "_________________________________________________________________\n",
            "dense_5 (Dense)              (None, 7)                 700       \n",
            "=================================================================\n",
            "Total params: 1,300\n",
            "Trainable params: 1,300\n",
            "Non-trainable params: 0\n",
            "_________________________________________________________________\n"
          ],
          "output_type":"stream"
        }
      ],
      "metadata":{
        
      }
    },
    {
      "cell_type":"code",
      "source":[
        "history = model.fit(x_train, y_train, validation_data=(x_val, y_val), epochs=50, batch_size=16, verbose=0)"
      ],
      "execution_count":30,
      "outputs":[
        
      ],
      "metadata":{
        
      }
    },
    {
      "cell_type":"code",
      "source":[
        "pred_val2 = model.predict(x_val)\n",
        "mse2 = mean_squared_error(y_val, pred_val2)\n",
        "print(mse2)"
      ],
      "execution_count":31,
      "outputs":[
        {
          "name":"stdout",
          "text":[
            "0.08517228725414681\n"
          ],
          "output_type":"stream"
        }
      ],
      "metadata":{
        
      }
    },
    {
      "cell_type":"code",
      "source":[
        "# Задание №2 - использование dropout-слоя."
      ],
      "execution_count":32,
      "outputs":[
        
      ],
      "metadata":{
        
      }
    },
    {
      "cell_type":"code",
      "source":[
        "drop = Sequential()\n",
        "\n",
        "drop.add(Dense(100, input_dim=6, activation='relu', use_bias=False))\n",
        "\n",
        "drop.add(Dropout(rate=0.1))\n",
        "\n",
        "drop.add(Dense(7, activation='softmax', use_bias=False))\n",
        "\n",
        "drop.compile(loss='categorical_crossentropy', optimizer='adam', metrics=['categorical_crossentropy'])\n",
        "\n",
        "drop.summary()"
      ],
      "execution_count":33,
      "outputs":[
        {
          "name":"stdout",
          "text":[
            "Model: \"sequential_3\"\n",
            "_________________________________________________________________\n",
            "Layer (type)                 Output Shape              Param #   \n",
            "=================================================================\n",
            "dense_6 (Dense)              (None, 100)               600       \n",
            "_________________________________________________________________\n",
            "dropout_1 (Dropout)          (None, 100)               0         \n",
            "_________________________________________________________________\n",
            "dense_7 (Dense)              (None, 7)                 700       \n",
            "=================================================================\n",
            "Total params: 1,300\n",
            "Trainable params: 1,300\n",
            "Non-trainable params: 0\n",
            "_________________________________________________________________\n"
          ],
          "output_type":"stream"
        }
      ],
      "metadata":{
        
      }
    },
    {
      "cell_type":"code",
      "source":[
        "history = drop.fit(x_train, y_train, validation_data = (x_val, y_val), epochs=50, batch_size=16, verbose=0)"
      ],
      "execution_count":34,
      "outputs":[
        
      ],
      "metadata":{
        
      }
    },
    {
      "cell_type":"code",
      "source":[
        "pred_val3 = drop.predict(x_val)\n",
        "mse3 = mean_squared_error(y_val, pred_val3)\n",
        "print(mse3)"
      ],
      "execution_count":35,
      "outputs":[
        {
          "name":"stdout",
          "text":[
            "0.08665396739293207\n"
          ],
          "output_type":"stream"
        }
      ],
      "metadata":{
        
      }
    },
    {
      "cell_type":"code",
      "source":[
        "print(mse1, mse2, mse3)"
      ],
      "execution_count":36,
      "outputs":[
        {
          "name":"stdout",
          "text":[
            "0.14285714285714285 0.08517228725414681 0.08665396739293207\n"
          ],
          "output_type":"stream"
        }
      ],
      "metadata":{
        
      }
    },
    {
      "cell_type":"code",
      "source":[
        "# Создайте нейронную сеть для решения задачи классификации с помощью keras. Используйте dropout-слой.\n",
        "# Сравните эффективность нейронных сетей с dropout-слоем и без него.\n",
        "# Попробуйте найти такие параметры dropout-слоя, чтобы сеть с ним работала лучше, чем без него."
      ],
      "execution_count":37,
      "outputs":[
        
      ],
      "metadata":{
        
      }
    },
    {
      "cell_type":"code",
      "source":[
        "# Проверяем на тестовой выборке\n",
        "pred_test = model.predict(x_test)\n",
        "mse = mean_squared_error(y_test, pred_test)\n",
        "print(mse)"
      ],
      "execution_count":38,
      "outputs":[
        {
          "name":"stdout",
          "text":[
            "0.09355488403890437\n"
          ],
          "output_type":"stream"
        }
      ],
      "metadata":{
        
      }
    }
  ],
  "metadata":{
    
  },
  "nbformat":4,
  "nbformat_minor":0
}